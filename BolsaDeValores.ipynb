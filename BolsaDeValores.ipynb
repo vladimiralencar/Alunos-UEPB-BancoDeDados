{
 "cells": [
  {
   "cell_type": "code",
   "execution_count": 1,
   "metadata": {},
   "outputs": [
    {
     "name": "stdout",
     "output_type": "stream",
     "text": [
      "/Users/valencar/Dropbox/BigDataAnalytics/Alunos-UEPB-TopicosEspeciaisEmBancoDeDados-master/SVM\r\n"
     ]
    }
   ],
   "source": [
    "!pwd"
   ]
  },
  {
   "cell_type": "code",
   "execution_count": 2,
   "metadata": {},
   "outputs": [
    {
     "name": "stdout",
     "output_type": "stream",
     "text": [
      "/Users/valencar/Downloads/AAPL.csv\r\n"
     ]
    }
   ],
   "source": [
    "!ls /Users/valencar/Downloads/*.csv"
   ]
  },
  {
   "cell_type": "code",
   "execution_count": 4,
   "metadata": {},
   "outputs": [
    {
     "data": {
      "text/html": [
       "<div>\n",
       "<style scoped>\n",
       "    .dataframe tbody tr th:only-of-type {\n",
       "        vertical-align: middle;\n",
       "    }\n",
       "\n",
       "    .dataframe tbody tr th {\n",
       "        vertical-align: top;\n",
       "    }\n",
       "\n",
       "    .dataframe thead th {\n",
       "        text-align: right;\n",
       "    }\n",
       "</style>\n",
       "<table border=\"1\" class=\"dataframe\">\n",
       "  <thead>\n",
       "    <tr style=\"text-align: right;\">\n",
       "      <th></th>\n",
       "      <th>Date</th>\n",
       "      <th>Open</th>\n",
       "      <th>High</th>\n",
       "      <th>Low</th>\n",
       "      <th>Close</th>\n",
       "      <th>Adj Close</th>\n",
       "      <th>Volume</th>\n",
       "    </tr>\n",
       "  </thead>\n",
       "  <tbody>\n",
       "    <tr>\n",
       "      <th>0</th>\n",
       "      <td>1980-12-12</td>\n",
       "      <td>0.513393</td>\n",
       "      <td>0.515625</td>\n",
       "      <td>0.513393</td>\n",
       "      <td>0.513393</td>\n",
       "      <td>0.407747</td>\n",
       "      <td>117258400.0</td>\n",
       "    </tr>\n",
       "    <tr>\n",
       "      <th>1</th>\n",
       "      <td>1980-12-15</td>\n",
       "      <td>0.488839</td>\n",
       "      <td>0.488839</td>\n",
       "      <td>0.486607</td>\n",
       "      <td>0.486607</td>\n",
       "      <td>0.386473</td>\n",
       "      <td>43971200.0</td>\n",
       "    </tr>\n",
       "    <tr>\n",
       "      <th>2</th>\n",
       "      <td>1980-12-16</td>\n",
       "      <td>0.453125</td>\n",
       "      <td>0.453125</td>\n",
       "      <td>0.450893</td>\n",
       "      <td>0.450893</td>\n",
       "      <td>0.358108</td>\n",
       "      <td>26432000.0</td>\n",
       "    </tr>\n",
       "    <tr>\n",
       "      <th>3</th>\n",
       "      <td>1980-12-17</td>\n",
       "      <td>0.462054</td>\n",
       "      <td>0.464286</td>\n",
       "      <td>0.462054</td>\n",
       "      <td>0.462054</td>\n",
       "      <td>0.366972</td>\n",
       "      <td>21610400.0</td>\n",
       "    </tr>\n",
       "    <tr>\n",
       "      <th>4</th>\n",
       "      <td>1980-12-18</td>\n",
       "      <td>0.475446</td>\n",
       "      <td>0.477679</td>\n",
       "      <td>0.475446</td>\n",
       "      <td>0.475446</td>\n",
       "      <td>0.377609</td>\n",
       "      <td>18362400.0</td>\n",
       "    </tr>\n",
       "  </tbody>\n",
       "</table>\n",
       "</div>"
      ],
      "text/plain": [
       "         Date      Open      High       Low     Close  Adj Close       Volume\n",
       "0  1980-12-12  0.513393  0.515625  0.513393  0.513393   0.407747  117258400.0\n",
       "1  1980-12-15  0.488839  0.488839  0.486607  0.486607   0.386473   43971200.0\n",
       "2  1980-12-16  0.453125  0.453125  0.450893  0.450893   0.358108   26432000.0\n",
       "3  1980-12-17  0.462054  0.464286  0.462054  0.462054   0.366972   21610400.0\n",
       "4  1980-12-18  0.475446  0.477679  0.475446  0.475446   0.377609   18362400.0"
      ]
     },
     "execution_count": 4,
     "metadata": {},
     "output_type": "execute_result"
    }
   ],
   "source": [
    "import pandas as pd\n",
    "url = '/Users/valencar/Downloads/AAPL.csv'\n",
    "df_apple = pd.read_csv(url)\n",
    "df_apple.head()"
   ]
  },
  {
   "cell_type": "code",
   "execution_count": 6,
   "metadata": {},
   "outputs": [
    {
     "data": {
      "text/plain": [
       "(0.19866099999999998, 30.112098983489606, 258.73999)"
      ]
     },
     "execution_count": 6,
     "metadata": {},
     "output_type": "execute_result"
    }
   ],
   "source": [
    "df_apple.Open.min(),  df_apple.Open.mean(), df_apple.Open.max()"
   ]
  },
  {
   "cell_type": "code",
   "execution_count": 8,
   "metadata": {},
   "outputs": [
    {
     "data": {
      "text/plain": [
       "30.665625"
      ]
     },
     "execution_count": 8,
     "metadata": {},
     "output_type": "execute_result"
    }
   ],
   "source": [
    "len(df_apple) / 320"
   ]
  },
  {
   "cell_type": "code",
   "execution_count": 9,
   "metadata": {},
   "outputs": [
    {
     "data": {
      "text/html": [
       "<div>\n",
       "<style scoped>\n",
       "    .dataframe tbody tr th:only-of-type {\n",
       "        vertical-align: middle;\n",
       "    }\n",
       "\n",
       "    .dataframe tbody tr th {\n",
       "        vertical-align: top;\n",
       "    }\n",
       "\n",
       "    .dataframe thead th {\n",
       "        text-align: right;\n",
       "    }\n",
       "</style>\n",
       "<table border=\"1\" class=\"dataframe\">\n",
       "  <thead>\n",
       "    <tr style=\"text-align: right;\">\n",
       "      <th></th>\n",
       "      <th>count</th>\n",
       "      <th>mean</th>\n",
       "      <th>std</th>\n",
       "      <th>min</th>\n",
       "      <th>25%</th>\n",
       "      <th>50%</th>\n",
       "      <th>75%</th>\n",
       "      <th>max</th>\n",
       "    </tr>\n",
       "  </thead>\n",
       "  <tbody>\n",
       "    <tr>\n",
       "      <th>Open</th>\n",
       "      <td>9812.0</td>\n",
       "      <td>3.011210e+01</td>\n",
       "      <td>5.294754e+01</td>\n",
       "      <td>0.198661</td>\n",
       "      <td>1.062500e+00</td>\n",
       "      <td>1.705357e+00</td>\n",
       "      <td>2.999643e+01</td>\n",
       "      <td>2.587400e+02</td>\n",
       "    </tr>\n",
       "    <tr>\n",
       "      <th>High</th>\n",
       "      <td>9812.0</td>\n",
       "      <td>3.040144e+01</td>\n",
       "      <td>5.341227e+01</td>\n",
       "      <td>0.198661</td>\n",
       "      <td>1.085000e+00</td>\n",
       "      <td>1.741071e+00</td>\n",
       "      <td>3.028572e+01</td>\n",
       "      <td>2.624700e+02</td>\n",
       "    </tr>\n",
       "    <tr>\n",
       "      <th>Low</th>\n",
       "      <td>9812.0</td>\n",
       "      <td>2.981173e+01</td>\n",
       "      <td>5.248957e+01</td>\n",
       "      <td>0.196429</td>\n",
       "      <td>1.042344e+00</td>\n",
       "      <td>1.669643e+00</td>\n",
       "      <td>2.968429e+01</td>\n",
       "      <td>2.582800e+02</td>\n",
       "    </tr>\n",
       "    <tr>\n",
       "      <th>Close</th>\n",
       "      <td>9812.0</td>\n",
       "      <td>3.011466e+01</td>\n",
       "      <td>5.296757e+01</td>\n",
       "      <td>0.196429</td>\n",
       "      <td>1.066250e+00</td>\n",
       "      <td>1.711429e+00</td>\n",
       "      <td>2.994286e+01</td>\n",
       "      <td>2.622000e+02</td>\n",
       "    </tr>\n",
       "    <tr>\n",
       "      <th>Adj Close</th>\n",
       "      <td>9812.0</td>\n",
       "      <td>2.812372e+01</td>\n",
       "      <td>5.107753e+01</td>\n",
       "      <td>0.156008</td>\n",
       "      <td>9.136060e-01</td>\n",
       "      <td>1.450930e+00</td>\n",
       "      <td>2.605331e+01</td>\n",
       "      <td>2.622000e+02</td>\n",
       "    </tr>\n",
       "    <tr>\n",
       "      <th>Volume</th>\n",
       "      <td>9812.0</td>\n",
       "      <td>8.627163e+07</td>\n",
       "      <td>8.625159e+07</td>\n",
       "      <td>347200.000000</td>\n",
       "      <td>3.325198e+07</td>\n",
       "      <td>5.810420e+07</td>\n",
       "      <td>1.076744e+08</td>\n",
       "      <td>1.855410e+09</td>\n",
       "    </tr>\n",
       "  </tbody>\n",
       "</table>\n",
       "</div>"
      ],
      "text/plain": [
       "            count          mean           std            min           25%  \\\n",
       "Open       9812.0  3.011210e+01  5.294754e+01       0.198661  1.062500e+00   \n",
       "High       9812.0  3.040144e+01  5.341227e+01       0.198661  1.085000e+00   \n",
       "Low        9812.0  2.981173e+01  5.248957e+01       0.196429  1.042344e+00   \n",
       "Close      9812.0  3.011466e+01  5.296757e+01       0.196429  1.066250e+00   \n",
       "Adj Close  9812.0  2.812372e+01  5.107753e+01       0.156008  9.136060e-01   \n",
       "Volume     9812.0  8.627163e+07  8.625159e+07  347200.000000  3.325198e+07   \n",
       "\n",
       "                    50%           75%           max  \n",
       "Open       1.705357e+00  2.999643e+01  2.587400e+02  \n",
       "High       1.741071e+00  3.028572e+01  2.624700e+02  \n",
       "Low        1.669643e+00  2.968429e+01  2.582800e+02  \n",
       "Close      1.711429e+00  2.994286e+01  2.622000e+02  \n",
       "Adj Close  1.450930e+00  2.605331e+01  2.622000e+02  \n",
       "Volume     5.810420e+07  1.076744e+08  1.855410e+09  "
      ]
     },
     "execution_count": 9,
     "metadata": {},
     "output_type": "execute_result"
    }
   ],
   "source": [
    "df_apple.describe().T"
   ]
  },
  {
   "cell_type": "code",
   "execution_count": null,
   "metadata": {},
   "outputs": [],
   "source": []
  }
 ],
 "metadata": {
  "kernelspec": {
   "display_name": "Python 3",
   "language": "python",
   "name": "python3"
  },
  "language_info": {
   "codemirror_mode": {
    "name": "ipython",
    "version": 3
   },
   "file_extension": ".py",
   "mimetype": "text/x-python",
   "name": "python",
   "nbconvert_exporter": "python",
   "pygments_lexer": "ipython3",
   "version": "3.6.6"
  }
 },
 "nbformat": 4,
 "nbformat_minor": 2
}
