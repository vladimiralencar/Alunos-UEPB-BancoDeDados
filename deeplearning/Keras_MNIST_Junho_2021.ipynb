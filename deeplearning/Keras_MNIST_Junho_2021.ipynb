{
  "nbformat": 4,
  "nbformat_minor": 0,
  "metadata": {
    "accelerator": "GPU",
    "colab": {
      "name": "Keras_MNIST_Junho_2021.ipynb",
      "provenance": [],
      "collapsed_sections": [],
      "machine_shape": "hm",
      "include_colab_link": true
    },
    "kernelspec": {
      "display_name": "Python 3",
      "language": "python",
      "name": "python3"
    },
    "language_info": {
      "codemirror_mode": {
        "name": "ipython",
        "version": 3
      },
      "file_extension": ".py",
      "mimetype": "text/x-python",
      "name": "python",
      "nbconvert_exporter": "python",
      "pygments_lexer": "ipython3",
      "version": "3.8.5"
    }
  },
  "cells": [
    {
      "cell_type": "markdown",
      "metadata": {
        "id": "view-in-github",
        "colab_type": "text"
      },
      "source": [
        "<a href=\"https://colab.research.google.com/github/vladimiralencar/Alunos-UEPB-BancoDeDados/blob/master/deeplearning/Keras_MNIST_Junho_2021.ipynb\" target=\"_parent\"><img src=\"https://colab.research.google.com/assets/colab-badge.svg\" alt=\"Open In Colab\"/></a>"
      ]
    },
    {
      "cell_type": "markdown",
      "metadata": {
        "id": "PFDfn6xucIPz"
      },
      "source": [
        "## Keras - Reconhecimento de Dígitos (MNIST)"
      ]
    },
    {
      "cell_type": "code",
      "metadata": {
        "id": "qut7f9LHBY8t",
        "colab": {
          "base_uri": "https://localhost:8080/"
        },
        "outputId": "d1afeb71-97f4-4a60-a8d8-28ebfc441502"
      },
      "source": [
        "!nvidia-smi"
      ],
      "execution_count": null,
      "outputs": [
        {
          "output_type": "stream",
          "text": [
            "Wed Jun  2 00:01:54 2021       \n",
            "+-----------------------------------------------------------------------------+\n",
            "| NVIDIA-SMI 465.19.01    Driver Version: 460.32.03    CUDA Version: 11.2     |\n",
            "|-------------------------------+----------------------+----------------------+\n",
            "| GPU  Name        Persistence-M| Bus-Id        Disp.A | Volatile Uncorr. ECC |\n",
            "| Fan  Temp  Perf  Pwr:Usage/Cap|         Memory-Usage | GPU-Util  Compute M. |\n",
            "|                               |                      |               MIG M. |\n",
            "|===============================+======================+======================|\n",
            "|   0  Tesla T4            Off  | 00000000:00:04.0 Off |                    0 |\n",
            "| N/A   38C    P8     9W /  70W |      0MiB / 15109MiB |      0%      Default |\n",
            "|                               |                      |                  N/A |\n",
            "+-------------------------------+----------------------+----------------------+\n",
            "                                                                               \n",
            "+-----------------------------------------------------------------------------+\n",
            "| Processes:                                                                  |\n",
            "|  GPU   GI   CI        PID   Type   Process name                  GPU Memory |\n",
            "|        ID   ID                                                   Usage      |\n",
            "|=============================================================================|\n",
            "|  No running processes found                                                 |\n",
            "+-----------------------------------------------------------------------------+\n"
          ],
          "name": "stdout"
        }
      ]
    },
    {
      "cell_type": "code",
      "metadata": {
        "id": "DOWs0me_cIP0"
      },
      "source": [
        "import numpy as np\n",
        "import matplotlib.pyplot as plt\n",
        "plt.rcParams['figure.figsize'] = (7,7) # Make the figures a bit bigger\n",
        "#from keras.utils import to_categorical\n",
        "from keras.utils.np_utils import to_categorical\n",
        "from keras.datasets import mnist\n",
        "from keras.models import Sequential\n",
        "from keras.layers import Conv2D, MaxPooling2D, Dense, Flatten, Dropout, Activation\n",
        "from keras.optimizers import SGD\n",
        "from keras.utils import np_utils\n",
        "%matplotlib inline"
      ],
      "execution_count": null,
      "outputs": []
    },
    {
      "cell_type": "markdown",
      "metadata": {
        "id": "FhpUWYJwcIP8"
      },
      "source": [
        "## Carregando arquivo de dígitos"
      ]
    },
    {
      "cell_type": "code",
      "metadata": {
        "id": "KB9stpCWcIP9",
        "colab": {
          "base_uri": "https://localhost:8080/"
        },
        "outputId": "41e75582-6e8c-46d2-9350-2fa46724d4bb"
      },
      "source": [
        "nb_classes = 10\n",
        "\n",
        "# the data, shuffled and split between tran and test sets\n",
        "(X_train, y_train), (X_test, y_test) = mnist.load_data()\n",
        "print(\"X_train original shape\", X_train.shape)\n",
        "print(\"y_train original shape\", y_train.shape)"
      ],
      "execution_count": null,
      "outputs": [
        {
          "output_type": "stream",
          "text": [
            "Downloading data from https://storage.googleapis.com/tensorflow/tf-keras-datasets/mnist.npz\n",
            "11493376/11490434 [==============================] - 0s 0us/step\n",
            "11501568/11490434 [==============================] - 0s 0us/step\n",
            "X_train original shape (60000, 28, 28)\n",
            "y_train original shape (60000,)\n"
          ],
          "name": "stdout"
        }
      ]
    },
    {
      "cell_type": "markdown",
      "metadata": {
        "id": "iVv7M8TfcIQA"
      },
      "source": [
        "Let's look at some examples of the training data"
      ]
    },
    {
      "cell_type": "code",
      "metadata": {
        "id": "v1vFd-PxcIQB",
        "colab": {
          "base_uri": "https://localhost:8080/",
          "height": 281
        },
        "outputId": "5ef41d92-02d6-45fa-d9da-3b9394745ecc"
      },
      "source": [
        "for i in range(9):\n",
        "    plt.subplot(3,3,i+1)\n",
        "    plt.imshow(X_train[i], cmap='gray', interpolation='none')\n",
        "    plt.title(\"Class {}\".format(y_train[i]))"
      ],
      "execution_count": null,
      "outputs": [
        {
          "output_type": "display_data",
          "data": {
            "image/png": "[encoded data removed]",
            "text/plain": [
              "<Figure size 432x288 with 9 Axes>"
            ]
          },
          "metadata": {
            "tags": [],
            "needs_background": "light"
          }
        }
      ]
    },
    {
      "cell_type": "markdown",
      "metadata": {
        "id": "EVuPjfyUcIQE"
      },
      "source": [
        "## Formatar e  Colocar os dados em Escala \n",
        "Our neural-network is going to take a single vector for each training example, so we need to reshape the input so that each 28x28 image becomes a single 784 dimensional vector. We'll also scale the inputs to be in the range [0-1] rather than [0-255]"
      ]
    },
    {
      "cell_type": "code",
      "metadata": {
        "id": "Q_Q9REmIcIQF",
        "colab": {
          "base_uri": "https://localhost:8080/"
        },
        "outputId": "122ded5d-a40c-41d3-b55d-d1254f83f38c"
      },
      "source": [
        "X_train = X_train.reshape(60000, 784)\n",
        "X_test = X_test.reshape(10000, 784)\n",
        "X_train = X_train.astype('float32')\n",
        "X_test = X_test.astype('float32')\n",
        "X_train /= 255\n",
        "X_test /= 255\n",
        "print(\"Training matrix shape\", X_train.shape)\n",
        "print(\"Testing matrix shape\", X_test.shape)"
      ],
      "execution_count": null,
      "outputs": [
        {
          "output_type": "stream",
          "text": [
            "Training matrix shape (60000, 784)\n",
            "Testing matrix shape (10000, 784)\n"
          ],
          "name": "stdout"
        }
      ]
    },
    {
      "cell_type": "markdown",
      "metadata": {
        "id": "Sm0DR8vwcIQJ"
      },
      "source": [
        "Modify the target matrices to be in the one-hot format, i.e.\n",
        "\n",
        "```\n",
        "0 -> [1, 0, 0, 0, 0, 0, 0, 0, 0]\n",
        "1 -> [0, 1, 0, 0, 0, 0, 0, 0, 0]\n",
        "2 -> [0, 0, 1, 0, 0, 0, 0, 0, 0]\n",
        "etc.\n",
        "```"
      ]
    },
    {
      "cell_type": "code",
      "metadata": {
        "id": "SEfGsZGNcIQK"
      },
      "source": [
        "# codificação ONE-HOT ENCODING\n",
        "Y_train = np_utils.to_categorical(y_train, nb_classes)\n",
        "Y_test = np_utils.to_categorical(y_test, nb_classes)"
      ],
      "execution_count": null,
      "outputs": []
    },
    {
      "cell_type": "code",
      "metadata": {
        "id": "g5dP0oIocIQN",
        "colab": {
          "base_uri": "https://localhost:8080/"
        },
        "outputId": "357bbd83-339d-477d-fecb-4ef99558ceb4"
      },
      "source": [
        "Y_test[0]"
      ],
      "execution_count": null,
      "outputs": [
        {
          "output_type": "execute_result",
          "data": {
            "text/plain": [
              "array([0., 0., 0., 0., 0., 0., 0., 1., 0., 0.], dtype=float32)"
            ]
          },
          "metadata": {
            "tags": []
          },
          "execution_count": 7
        }
      ]
    },
    {
      "cell_type": "markdown",
      "metadata": {
        "id": "l8FKld2wcIQR"
      },
      "source": [
        "# Construindo a Rede Neural\n",
        "Build the neural-network. Here we'll do a simple 3 layer fully connected network.\n",
        "<img src=\"https://raw.githubusercontent.com/vladimiralencar/Alunos-UEPB-TopicosEspeciaisEmBancoDeDados/master/deeplearning/data/figure.png\" />"
      ]
    },
    {
      "cell_type": "code",
      "metadata": {
        "id": "45U_h6vQcIQS"
      },
      "source": [
        "model = Sequential()\n",
        "model.add(Dense(512, input_shape=(784,)))\n",
        "model.add(Activation('relu')) # An \"activation\" is just a non-linear function applied to the output\n",
        "                              # of the layer above. Here, with a \"rectified linear unit\",\n",
        "                              # we clamp all values below 0 to 0.\n",
        "                           \n",
        "#model.add(Dropout(0.3))   # Dropout helps protect the model from memorizing or \"overfitting\" the training data\n",
        "model.add(Dense(512))\n",
        "model.add(Activation('relu'))\n",
        "#model.add(Dropout(0.3))\n",
        "model.add(Dense(10))\n",
        "model.add(Activation('softmax')) # This special \"softmax\" activation among other things,\n",
        "                                 # ensures the output is a valid probaility distribution, that is\n",
        "                                 # that its values are all non-negative and sum to 1."
      ],
      "execution_count": null,
      "outputs": []
    },
    {
      "cell_type": "markdown",
      "metadata": {
        "id": "bprkmGQxcIQW"
      },
      "source": [
        "## Compile the model\n"
      ]
    },
    {
      "cell_type": "code",
      "metadata": {
        "id": "IlNffN5XcIQX",
        "colab": {
          "base_uri": "https://localhost:8080/"
        },
        "outputId": "49980944-59d8-4dd3-ef97-568e93af8bd8"
      },
      "source": [
        "model.compile(loss='categorical_crossentropy', optimizer='SGD', metrics=['accuracy'])\n",
        "model.summary()"
      ],
      "execution_count": null,
      "outputs": [
        {
          "output_type": "stream",
          "text": [
            "Model: \"sequential\"\n",
            "_________________________________________________________________\n",
            "Layer (type)                 Output Shape              Param #   \n",
            "=================================================================\n",
            "dense (Dense)                (None, 512)               401920    \n",
            "_________________________________________________________________\n",
            "activation (Activation)      (None, 512)               0         \n",
            "_________________________________________________________________\n",
            "dense_1 (Dense)              (None, 512)               262656    \n",
            "_________________________________________________________________\n",
            "activation_1 (Activation)    (None, 512)               0         \n",
            "_________________________________________________________________\n",
            "dense_2 (Dense)              (None, 10)                5130      \n",
            "_________________________________________________________________\n",
            "activation_2 (Activation)    (None, 10)                0         \n",
            "=================================================================\n",
            "Total params: 669,706\n",
            "Trainable params: 669,706\n",
            "Non-trainable params: 0\n",
            "_________________________________________________________________\n"
          ],
          "name": "stdout"
        }
      ]
    },
    {
      "cell_type": "markdown",
      "metadata": {
        "id": "2V_N8Ft-cIQb"
      },
      "source": [
        "## Train the model!\n",
        "This is the fun part: you can feed the training data loaded in earlier into this model and it will learn to classify digits"
      ]
    },
    {
      "cell_type": "code",
      "metadata": {
        "id": "Y7uvIivNcIQc",
        "colab": {
          "base_uri": "https://localhost:8080/"
        },
        "outputId": "c9bafc30-dad2-4250-8464-24a3a1e949fb"
      },
      "source": [
        "%%time\n",
        "model.fit(X_train, Y_train,\n",
        "          batch_size=256, epochs=20,\n",
        "          verbose=1,\n",
        "          validation_data=(X_test, Y_test))"
      ],
      "execution_count": null,
      "outputs": [
        {
          "output_type": "stream",
          "text": [
            "Epoch 1/20\n",
            "235/235 [==============================] - 16s 6ms/step - loss: 1.9024 - accuracy: 0.4836 - val_loss: 0.8912 - val_accuracy: 0.8312\n",
            "Epoch 2/20\n",
            "235/235 [==============================] - 1s 4ms/step - loss: 0.7856 - accuracy: 0.8333 - val_loss: 0.5250 - val_accuracy: 0.8765\n",
            "Epoch 3/20\n",
            "235/235 [==============================] - 1s 4ms/step - loss: 0.5161 - accuracy: 0.8729 - val_loss: 0.4181 - val_accuracy: 0.8936\n",
            "Epoch 4/20\n",
            "235/235 [==============================] - 1s 4ms/step - loss: 0.4236 - accuracy: 0.8876 - val_loss: 0.3667 - val_accuracy: 0.9022\n",
            "Epoch 5/20\n",
            "235/235 [==============================] - 1s 3ms/step - loss: 0.3757 - accuracy: 0.8986 - val_loss: 0.3376 - val_accuracy: 0.9056\n",
            "Epoch 6/20\n",
            "235/235 [==============================] - 1s 3ms/step - loss: 0.3454 - accuracy: 0.9036 - val_loss: 0.3160 - val_accuracy: 0.9122\n",
            "Epoch 7/20\n",
            "235/235 [==============================] - 1s 4ms/step - loss: 0.3220 - accuracy: 0.9106 - val_loss: 0.2997 - val_accuracy: 0.9158\n",
            "Epoch 8/20\n",
            "235/235 [==============================] - 1s 4ms/step - loss: 0.3122 - accuracy: 0.9110 - val_loss: 0.2878 - val_accuracy: 0.9187\n",
            "Epoch 9/20\n",
            "235/235 [==============================] - 1s 4ms/step - loss: 0.2975 - accuracy: 0.9167 - val_loss: 0.2774 - val_accuracy: 0.9223\n",
            "Epoch 10/20\n",
            "235/235 [==============================] - 1s 4ms/step - loss: 0.2772 - accuracy: 0.9222 - val_loss: 0.2675 - val_accuracy: 0.9248\n",
            "Epoch 11/20\n",
            "235/235 [==============================] - 1s 3ms/step - loss: 0.2752 - accuracy: 0.9235 - val_loss: 0.2605 - val_accuracy: 0.9262\n",
            "Epoch 12/20\n",
            "235/235 [==============================] - 1s 3ms/step - loss: 0.2691 - accuracy: 0.9231 - val_loss: 0.2524 - val_accuracy: 0.9290\n",
            "Epoch 13/20\n",
            "235/235 [==============================] - 1s 4ms/step - loss: 0.2617 - accuracy: 0.9249 - val_loss: 0.2459 - val_accuracy: 0.9300\n",
            "Epoch 14/20\n",
            "235/235 [==============================] - 1s 3ms/step - loss: 0.2486 - accuracy: 0.9290 - val_loss: 0.2402 - val_accuracy: 0.9323\n",
            "Epoch 15/20\n",
            "235/235 [==============================] - 1s 3ms/step - loss: 0.2449 - accuracy: 0.9313 - val_loss: 0.2346 - val_accuracy: 0.9344\n",
            "Epoch 16/20\n",
            "235/235 [==============================] - 1s 3ms/step - loss: 0.2380 - accuracy: 0.9318 - val_loss: 0.2292 - val_accuracy: 0.9348\n",
            "Epoch 17/20\n",
            "235/235 [==============================] - 1s 3ms/step - loss: 0.2384 - accuracy: 0.9324 - val_loss: 0.2237 - val_accuracy: 0.9366\n",
            "Epoch 18/20\n",
            "235/235 [==============================] - 1s 3ms/step - loss: 0.2315 - accuracy: 0.9361 - val_loss: 0.2187 - val_accuracy: 0.9385\n",
            "Epoch 19/20\n",
            "235/235 [==============================] - 1s 3ms/step - loss: 0.2199 - accuracy: 0.9383 - val_loss: 0.2156 - val_accuracy: 0.9386\n",
            "Epoch 20/20\n",
            "235/235 [==============================] - 1s 3ms/step - loss: 0.2150 - accuracy: 0.9396 - val_loss: 0.2098 - val_accuracy: 0.9408\n",
            "CPU times: user 30.3 s, sys: 2.81 s, total: 33.1 s\n",
            "Wall time: 32.3 s\n"
          ],
          "name": "stdout"
        },
        {
          "output_type": "execute_result",
          "data": {
            "text/plain": [
              "<keras.callbacks.History at 0x7f5a0c7c4b50>"
            ]
          },
          "metadata": {
            "tags": []
          },
          "execution_count": 10
        }
      ]
    },
    {
      "cell_type": "markdown",
      "metadata": {
        "id": "LN4I2tmAcIQg"
      },
      "source": [
        "## Finally, evaluate its performance"
      ]
    },
    {
      "cell_type": "code",
      "metadata": {
        "id": "ESUE8YzEcIQh",
        "colab": {
          "base_uri": "https://localhost:8080/"
        },
        "outputId": "ae1d7c4d-6544-4344-d931-4845425b6f21"
      },
      "source": [
        "#loss = model.evaluate(X_test, Y_test,verbose=0)\n",
        "#print('Acurácia de teste:', 1 - loss)\n",
        "\n",
        "_, acc = model.evaluate(X_test, Y_test, verbose=0)\n",
        "print('> %.3f' % (acc * 100.0))"
      ],
      "execution_count": null,
      "outputs": [
        {
          "output_type": "stream",
          "text": [
            "> 94.080\n"
          ],
          "name": "stdout"
        }
      ]
    },
    {
      "cell_type": "markdown",
      "metadata": {
        "id": "CdJ5z8Sg4qu_"
      },
      "source": [
        "# CNN Model"
      ]
    },
    {
      "cell_type": "markdown",
      "metadata": {
        "id": "5T6ozRm84qu_"
      },
      "source": [
        "![image](https://lh4.googleusercontent.com/ojMXAE77tiVVF3RSqK1lldysJx5OzBJdE5ng_0w7GpHYWl9GR9jjBN0p56UFW3dM3gEdS-0oTOw0IjORJXVImFvcXdD-EnFibJl06gxMN_kYTeOyfmanNEvXK59CYzt2t_3DifPG)"
      ]
    },
    {
      "cell_type": "code",
      "metadata": {
        "id": "TA6O3OOJ4qu_",
        "colab": {
          "base_uri": "https://localhost:8080/"
        },
        "outputId": "a3e5afd9-77ba-43c9-a571-fc3377ffe4d9"
      },
      "source": [
        "# define cnn model\n",
        "model = Sequential() # 32\n",
        "model.add(Conv2D(128, (3, 3), activation='relu', kernel_initializer='he_uniform', input_shape=(28, 28, 1) ) ) #\n",
        "model.add(Conv2D(128, (3, 3), activation='relu'))\n",
        "model.add(MaxPooling2D((2, 2)))\n",
        "model.add(Dropout(0.25))\n",
        "model.add(Flatten())\n",
        "model.add(Dense(100, activation='relu',  kernel_initializer='he_uniform')) #))\n",
        "model.add(Dense(10, activation='softmax'))\n",
        "\n",
        "# compile model\n",
        "#opt = SGD(lr=0.01, momentum=0.9)\n",
        "model.compile(optimizer=\"adam\", loss='categorical_crossentropy', metrics=['accuracy'])\n",
        "model.summary()"
      ],
      "execution_count": null,
      "outputs": [
        {
          "output_type": "stream",
          "text": [
            "Model: \"sequential_1\"\n",
            "_________________________________________________________________\n",
            "Layer (type)                 Output Shape              Param #   \n",
            "=================================================================\n",
            "conv2d (Conv2D)              (None, 26, 26, 128)       1280      \n",
            "_________________________________________________________________\n",
            "conv2d_1 (Conv2D)            (None, 24, 24, 128)       147584    \n",
            "_________________________________________________________________\n",
            "max_pooling2d (MaxPooling2D) (None, 12, 12, 128)       0         \n",
            "_________________________________________________________________\n",
            "dropout (Dropout)            (None, 12, 12, 128)       0         \n",
            "_________________________________________________________________\n",
            "flatten (Flatten)            (None, 18432)             0         \n",
            "_________________________________________________________________\n",
            "dense_3 (Dense)              (None, 100)               1843300   \n",
            "_________________________________________________________________\n",
            "dense_4 (Dense)              (None, 10)                1010      \n",
            "=================================================================\n",
            "Total params: 1,993,174\n",
            "Trainable params: 1,993,174\n",
            "Non-trainable params: 0\n",
            "_________________________________________________________________\n"
          ],
          "name": "stdout"
        }
      ]
    },
    {
      "cell_type": "code",
      "metadata": {
        "id": "fR5PfERn4qu_",
        "colab": {
          "base_uri": "https://localhost:8080/"
        },
        "outputId": "6d0679bf-9a8e-4685-d3d8-f6f0c5b30772"
      },
      "source": [
        "# reshape dataset to have a single channel\n",
        "(X_train, y_train), (X_test, y_test) = mnist.load_data()\n",
        "X_train = X_train.reshape((X_train.shape[0], 28, 28, 1))\n",
        "X_test = X_test.reshape((X_test.shape[0], 28, 28, 1))\n",
        "\n",
        "X_train = X_train.astype('float32')\n",
        "X_test = X_test.astype('float32')\n",
        "X_train /= 255.0\n",
        "X_test /= 255.0\n",
        "print(\"Training matrix shape\", X_train.shape)\n",
        "print(\"Testing matrix shape\", X_test.shape)\n",
        "\n",
        "# one hot encode target values\n",
        "Y_train = to_categorical(y_train)\n",
        "Y_test = to_categorical(y_test)"
      ],
      "execution_count": null,
      "outputs": [
        {
          "output_type": "stream",
          "text": [
            "Training matrix shape (60000, 28, 28, 1)\n",
            "Testing matrix shape (10000, 28, 28, 1)\n"
          ],
          "name": "stdout"
        }
      ]
    },
    {
      "cell_type": "code",
      "metadata": {
        "id": "M2jVaQtJ4qu_",
        "colab": {
          "base_uri": "https://localhost:8080/"
        },
        "outputId": "a49c801b-5068-4676-f966-d8af14f5ecad"
      },
      "source": [
        "%%time\n",
        "history = model.fit(X_train, Y_train, \n",
        "                    epochs=20, \n",
        "                    batch_size=512, \n",
        "                    validation_data=(X_test, Y_test), \n",
        "                    verbose=1)"
      ],
      "execution_count": null,
      "outputs": [
        {
          "output_type": "stream",
          "text": [
            "Epoch 1/20\n",
            "118/118 [==============================] - 39s 68ms/step - loss: 0.4952 - accuracy: 0.8461 - val_loss: 0.0535 - val_accuracy: 0.9825\n",
            "Epoch 2/20\n",
            "118/118 [==============================] - 7s 60ms/step - loss: 0.0470 - accuracy: 0.9858 - val_loss: 0.0420 - val_accuracy: 0.9860\n",
            "Epoch 3/20\n",
            "118/118 [==============================] - 7s 61ms/step - loss: 0.0279 - accuracy: 0.9911 - val_loss: 0.0371 - val_accuracy: 0.9885\n",
            "Epoch 4/20\n",
            "118/118 [==============================] - 7s 61ms/step - loss: 0.0171 - accuracy: 0.9944 - val_loss: 0.0398 - val_accuracy: 0.9880\n",
            "Epoch 5/20\n",
            "118/118 [==============================] - 7s 61ms/step - loss: 0.0149 - accuracy: 0.9953 - val_loss: 0.0357 - val_accuracy: 0.9897\n",
            "Epoch 6/20\n",
            "118/118 [==============================] - 7s 61ms/step - loss: 0.0112 - accuracy: 0.9964 - val_loss: 0.0417 - val_accuracy: 0.9898\n",
            "Epoch 7/20\n",
            "118/118 [==============================] - 7s 61ms/step - loss: 0.0090 - accuracy: 0.9969 - val_loss: 0.0358 - val_accuracy: 0.9900\n",
            "Epoch 8/20\n",
            "118/118 [==============================] - 7s 61ms/step - loss: 0.0068 - accuracy: 0.9979 - val_loss: 0.0370 - val_accuracy: 0.9909\n",
            "Epoch 9/20\n",
            "118/118 [==============================] - 7s 61ms/step - loss: 0.0056 - accuracy: 0.9981 - val_loss: 0.0376 - val_accuracy: 0.9901\n",
            "Epoch 10/20\n",
            "118/118 [==============================] - 7s 61ms/step - loss: 0.0051 - accuracy: 0.9985 - val_loss: 0.0370 - val_accuracy: 0.9909\n",
            "Epoch 11/20\n",
            "118/118 [==============================] - 7s 61ms/step - loss: 0.0048 - accuracy: 0.9982 - val_loss: 0.0435 - val_accuracy: 0.9905\n",
            "Epoch 12/20\n",
            "118/118 [==============================] - 7s 62ms/step - loss: 0.0029 - accuracy: 0.9988 - val_loss: 0.0490 - val_accuracy: 0.9884\n",
            "Epoch 13/20\n",
            "118/118 [==============================] - 7s 61ms/step - loss: 0.0050 - accuracy: 0.9983 - val_loss: 0.0519 - val_accuracy: 0.9906\n",
            "Epoch 14/20\n",
            "118/118 [==============================] - 7s 62ms/step - loss: 0.0056 - accuracy: 0.9981 - val_loss: 0.0460 - val_accuracy: 0.9901\n",
            "Epoch 15/20\n",
            "118/118 [==============================] - 7s 62ms/step - loss: 0.0038 - accuracy: 0.9985 - val_loss: 0.0490 - val_accuracy: 0.9905\n",
            "Epoch 16/20\n",
            "118/118 [==============================] - 7s 62ms/step - loss: 0.0034 - accuracy: 0.9988 - val_loss: 0.0482 - val_accuracy: 0.9896\n",
            "Epoch 17/20\n",
            "118/118 [==============================] - 7s 62ms/step - loss: 0.0031 - accuracy: 0.9989 - val_loss: 0.0451 - val_accuracy: 0.9897\n",
            "Epoch 18/20\n",
            "118/118 [==============================] - 7s 62ms/step - loss: 0.0026 - accuracy: 0.9991 - val_loss: 0.0558 - val_accuracy: 0.9889\n",
            "Epoch 19/20\n",
            "118/118 [==============================] - 7s 62ms/step - loss: 0.0040 - accuracy: 0.9985 - val_loss: 0.0419 - val_accuracy: 0.9909\n",
            "Epoch 20/20\n",
            "118/118 [==============================] - 7s 62ms/step - loss: 0.0034 - accuracy: 0.9990 - val_loss: 0.0559 - val_accuracy: 0.9900\n",
            "CPU times: user 1min 48s, sys: 4.29 s, total: 1min 53s\n",
            "Wall time: 3min 24s\n"
          ],
          "name": "stdout"
        }
      ]
    },
    {
      "cell_type": "markdown",
      "metadata": {
        "id": "xjgB6AmYI4QO"
      },
      "source": [
        "# Avaliando meu Modelo"
      ]
    },
    {
      "cell_type": "code",
      "metadata": {
        "id": "xS5XXNHg4qu_",
        "colab": {
          "base_uri": "https://localhost:8080/"
        },
        "outputId": "991df144-8b22-4e1c-a134-7722b314c3bb"
      },
      "source": [
        "_, acc = model.evaluate(X_test, Y_test, verbose=0)\n",
        "print('> %.3f' % (acc * 100.0))"
      ],
      "execution_count": null,
      "outputs": [
        {
          "output_type": "stream",
          "text": [
            "> 99.000\n"
          ],
          "name": "stdout"
        }
      ]
    },
    {
      "cell_type": "markdown",
      "metadata": {
        "id": "wn7pD3c5I38v"
      },
      "source": [
        "# Resultados - Métricas Pesos Sinápticos e Hiperparâmetros"
      ]
    },
    {
      "cell_type": "code",
      "metadata": {
        "colab": {
          "base_uri": "https://localhost:8080/"
        },
        "id": "DfbDWTjWFZi8",
        "outputId": "20e9b086-14ed-442c-9e53-10479d0db6b5"
      },
      "source": [
        "history.__dict__"
      ],
      "execution_count": null,
      "outputs": [
        {
          "output_type": "execute_result",
          "data": {
            "text/plain": [
              "{'_chief_worker_only': None,\n",
              " '_supports_tf_logs': False,\n",
              " 'epoch': [0,\n",
              "  1,\n",
              "  2,\n",
              "  3,\n",
              "  4,\n",
              "  5,\n",
              "  6,\n",
              "  7,\n",
              "  8,\n",
              "  9,\n",
              "  10,\n",
              "  11,\n",
              "  12,\n",
              "  13,\n",
              "  14,\n",
              "  15,\n",
              "  16,\n",
              "  17,\n",
              "  18,\n",
              "  19],\n",
              " 'history': {'accuracy': [0.9395666718482971,\n",
              "   0.9863333106040955,\n",
              "   0.9908833503723145,\n",
              "   0.9941499829292297,\n",
              "   0.9953333139419556,\n",
              "   0.9961666464805603,\n",
              "   0.9971333146095276,\n",
              "   0.9976500272750854,\n",
              "   0.9976999759674072,\n",
              "   0.9982666373252869,\n",
              "   0.9981333613395691,\n",
              "   0.9986500144004822,\n",
              "   0.9984166622161865,\n",
              "   0.9978166818618774,\n",
              "   0.9987499713897705,\n",
              "   0.9987499713897705,\n",
              "   0.9985499978065491,\n",
              "   0.998533308506012,\n",
              "   0.9987999796867371,\n",
              "   0.9988833069801331],\n",
              "  'loss': [0.19815514981746674,\n",
              "   0.044702667742967606,\n",
              "   0.028196677565574646,\n",
              "   0.018090050667524338,\n",
              "   0.014692978002130985,\n",
              "   0.011515356600284576,\n",
              "   0.008587189950048923,\n",
              "   0.006833503022789955,\n",
              "   0.006933757569640875,\n",
              "   0.0053505985997617245,\n",
              "   0.004937689285725355,\n",
              "   0.0035290031228214502,\n",
              "   0.004471955820918083,\n",
              "   0.006108589004725218,\n",
              "   0.003287566127255559,\n",
              "   0.0037467756774276495,\n",
              "   0.003999001812189817,\n",
              "   0.003871114691719413,\n",
              "   0.0038580363616347313,\n",
              "   0.0034683975391089916],\n",
              "  'val_accuracy': [0.9825000166893005,\n",
              "   0.9860000014305115,\n",
              "   0.9884999990463257,\n",
              "   0.9879999756813049,\n",
              "   0.9897000193595886,\n",
              "   0.989799976348877,\n",
              "   0.9900000095367432,\n",
              "   0.9908999800682068,\n",
              "   0.9901000261306763,\n",
              "   0.9908999800682068,\n",
              "   0.9904999732971191,\n",
              "   0.9883999824523926,\n",
              "   0.9905999898910522,\n",
              "   0.9901000261306763,\n",
              "   0.9904999732971191,\n",
              "   0.9896000027656555,\n",
              "   0.9897000193595886,\n",
              "   0.9889000058174133,\n",
              "   0.9908999800682068,\n",
              "   0.9900000095367432],\n",
              "  'val_loss': [0.05348503962159157,\n",
              "   0.04202866926789284,\n",
              "   0.03711073473095894,\n",
              "   0.039783645421266556,\n",
              "   0.03571755439043045,\n",
              "   0.04173213616013527,\n",
              "   0.035798296332359314,\n",
              "   0.03696487843990326,\n",
              "   0.03763685002923012,\n",
              "   0.03702007979154587,\n",
              "   0.043470967561006546,\n",
              "   0.04899894446134567,\n",
              "   0.051868144422769547,\n",
              "   0.046049345284700394,\n",
              "   0.048993173986673355,\n",
              "   0.04822714626789093,\n",
              "   0.045119624584913254,\n",
              "   0.05580023303627968,\n",
              "   0.04194564372301102,\n",
              "   0.055946722626686096]},\n",
              " 'model': <keras.engine.sequential.Sequential at 0x7f5a6910ba50>,\n",
              " 'params': {'epochs': 20, 'steps': 118, 'verbose': 1},\n",
              " 'validation_data': None}"
            ]
          },
          "metadata": {
            "tags": []
          },
          "execution_count": 19
        }
      ]
    },
    {
      "cell_type": "code",
      "metadata": {
        "colab": {
          "base_uri": "https://localhost:8080/"
        },
        "id": "Vo_UFRc3IPDp",
        "outputId": "605ef6b5-0aa8-44a5-8266-bd1ecc535c2a"
      },
      "source": [
        "acc = history.history['accuracy']\n",
        "acc"
      ],
      "execution_count": null,
      "outputs": [
        {
          "output_type": "execute_result",
          "data": {
            "text/plain": [
              "[0.9395666718482971,\n",
              " 0.9863333106040955,\n",
              " 0.9908833503723145,\n",
              " 0.9941499829292297,\n",
              " 0.9953333139419556,\n",
              " 0.9961666464805603,\n",
              " 0.9971333146095276,\n",
              " 0.9976500272750854,\n",
              " 0.9976999759674072,\n",
              " 0.9982666373252869,\n",
              " 0.9981333613395691,\n",
              " 0.9986500144004822,\n",
              " 0.9984166622161865,\n",
              " 0.9978166818618774,\n",
              " 0.9987499713897705,\n",
              " 0.9987499713897705,\n",
              " 0.9985499978065491,\n",
              " 0.998533308506012,\n",
              " 0.9987999796867371,\n",
              " 0.9988833069801331]"
            ]
          },
          "metadata": {
            "tags": []
          },
          "execution_count": 35
        }
      ]
    },
    {
      "cell_type": "code",
      "metadata": {
        "colab": {
          "base_uri": "https://localhost:8080/",
          "height": 497
        },
        "id": "s5AmBeusFTrs",
        "outputId": "5535b232-9c0d-412b-c67d-ca07151946d8"
      },
      "source": [
        "import matplotlib.pyplot as plt\n",
        "plt.rcParams[\"figure.figsize\"] = [14,8]\n",
        "\n",
        "acc = history.history['accuracy']\n",
        "\n",
        "plt.plot(history.epoch, acc)\n",
        "plt.plot(history.epoch, history.history['val_accuracy'] )\n",
        "plt.ylabel('Cost')\n",
        "plt.xlabel('Epochs')\n",
        "#plt.savefig('images/12_07.png', dpi=300)\n",
        "plt.show()"
      ],
      "execution_count": null,
      "outputs": [
        {
          "output_type": "display_data",
          "data": {
            "image/png": "[encoded data removed]",
            "text/plain": [
              "<Figure size 1008x576 with 1 Axes>"
            ]
          },
          "metadata": {
            "tags": [],
            "needs_background": "light"
          }
        }
      ]
    },
    {
      "cell_type": "markdown",
      "metadata": {
        "id": "ECkrQFAGcIQk"
      },
      "source": [
        "## Plotando algumas predições erradas do conjunto de teste"
      ]
    },
    {
      "cell_type": "code",
      "metadata": {
        "id": "QfQYcaQxcIQl",
        "colab": {
          "base_uri": "https://localhost:8080/",
          "height": 296
        },
        "outputId": "16b65cfa-d3c5-4abc-f230-9e7694a6b774"
      },
      "source": [
        "# classificações incorretas\n",
        "y_test_pred = model.predict_classes(X_test)\n",
        "#y_test_pred = np_utils.to_categorical(y_test_pred, nb_classes)\n",
        "\n",
        "miscl_img = X_test[y_test != y_test_pred][:25]\n",
        "correct_lab = y_test[y_test != y_test_pred][:25]\n",
        "miscl_lab = y_test_pred[y_test != y_test_pred][:25]\n",
        "\n",
        "\n",
        "#miscl_img = X_test[correct_indices]\n",
        "fig, ax = plt.subplots(nrows=2, ncols=5, sharex=True, sharey=True,)\n",
        "ax = ax.flatten()\n",
        "for i in range(10):\n",
        "    img = miscl_img[i].reshape(28, 28)\n",
        "    ax[i].imshow(img, cmap='Greys', interpolation='nearest')\n",
        "    ax[i].set_title('%d) t: %d p: %d' % (i+1, correct_lab[i], miscl_lab[i]))\n",
        "\n",
        "ax[0].set_xticks([])\n",
        "ax[0].set_yticks([])\n",
        "plt.tight_layout()\n",
        "plt.show()"
      ],
      "execution_count": null,
      "outputs": [
        {
          "output_type": "stream",
          "text": [
            "/usr/local/lib/python3.7/dist-packages/keras/engine/sequential.py:450: UserWarning: `model.predict_classes()` is deprecated and will be removed after 2021-01-01. Please use instead:* `np.argmax(model.predict(x), axis=-1)`,   if your model does multi-class classification   (e.g. if it uses a `softmax` last-layer activation).* `(model.predict(x) > 0.5).astype(\"int32\")`,   if your model does binary classification   (e.g. if it uses a `sigmoid` last-layer activation).\n",
            "  warnings.warn('`model.predict_classes()` is deprecated and '\n"
          ],
          "name": "stderr"
        },
        {
          "output_type": "display_data",
          "data": {
            "image/png": "[encoded data removed]",
            "text/plain": [
              "<Figure size 432x288 with 10 Axes>"
            ]
          },
          "metadata": {
            "tags": []
          }
        }
      ]
    },
    {
      "cell_type": "markdown",
      "metadata": {
        "id": "4IfepFdZcIQp"
      },
      "source": [
        "# Plotando algumas predições Corretas do conjunto de teste"
      ]
    },
    {
      "cell_type": "code",
      "metadata": {
        "id": "9deHG7zKcIQq",
        "colab": {
          "base_uri": "https://localhost:8080/",
          "height": 295
        },
        "outputId": "85cb001c-ba24-4f0f-ca5c-d5bb953cf9a6"
      },
      "source": [
        "# classificações corretas\n",
        "miscl_img = X_test[y_test == y_test_pred][:25]\n",
        "correct_lab = y_test[y_test == y_test_pred][:25]\n",
        "miscl_lab = y_test_pred[y_test == y_test_pred][:25]\n",
        "\n",
        "\n",
        "#miscl_img = X_test[correct_indices]\n",
        "fig, ax = plt.subplots(nrows=3, ncols=5, sharex=True, sharey=True,)\n",
        "ax = ax.flatten()\n",
        "for i in range(15):\n",
        "    img = miscl_img[i].reshape(28, 28)\n",
        "    ax[i].imshow(img, cmap='Greys', interpolation='nearest')\n",
        "    ax[i].set_title('%d) t: %d p: %d' % (i+1, correct_lab[i], miscl_lab[i]))\n",
        "\n",
        "ax[0].set_xticks([])\n",
        "ax[0].set_yticks([])\n",
        "plt.tight_layout()\n",
        "plt.show()"
      ],
      "execution_count": null,
      "outputs": [
        {
          "output_type": "display_data",
          "data": {
            "image/png": "[encoded data removed]",
            "text/plain": [
              "<Figure size 432x288 with 15 Axes>"
            ]
          },
          "metadata": {
            "tags": []
          }
        }
      ]
    }
  ]
}