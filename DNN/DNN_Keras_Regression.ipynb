{
  "nbformat": 4,
  "nbformat_minor": 0,
  "metadata": {
    "colab": {
      "name": "DNN-Keras-Regression.ipynb",
      "version": "0.3.2",
      "provenance": [],
      "collapsed_sections": [],
      "include_colab_link": true
    },
    "kernelspec": {
      "display_name": "Python 3",
      "language": "python",
      "name": "python3"
    }
  },
  "cells": [
    {
      "cell_type": "markdown",
      "metadata": {
        "id": "view-in-github",
        "colab_type": "text"
      },
      "source": [
        "<a href=\"https://colab.research.google.com/github/vladimiralencar/Alunos-UEPB-BancoDeDados/blob/master/DNN/DNN_Keras_Regression.ipynb\" target=\"_parent\"><img src=\"https://colab.research.google.com/assets/colab-badge.svg\" alt=\"Open In Colab\"/></a>"
      ]
    },
    {
      "metadata": {
        "id": "iEuIUHE-3BJT",
        "colab_type": "text"
      },
      "cell_type": "markdown",
      "source": [
        "# Deep Neural Networks com TensorFlow \n",
        "## Regressão\n",
        "\n",
        "![TensorFlow](https://github.com/vladimiralencar/DeepLearning-LANA/blob/master/DNN/images/tensorflow.png?raw=true \"TensorFlow\")\n",
        "\n",
        "TensorFlow é uma biblioteca de software de código aberto para aprendizagem de máquinas em vários tipos de tarefas de compreensão de percepção e linguagem. Atualmente, ele é usado tanto para pesquisa quanto para produção por diferentes equipes em muitos produtos comerciais do Google, como reconhecimento de fala, Gmail, Google Photos e pesquisas, muitas das quais anteriormente utilizaram seu antecessor DistBelief. O TensorFlow foi originalmente desenvolvido pela equipe do Google Brain para fins de pesquisa e produção do Google e posteriormente lançado sob a licença de código aberto Apache 2.0 em 9 de novembro de 2015.\n",
        "\n",
        "* [TensorFlow Homepage](https://www.tensorflow.org/)\n",
        "* [TensorFlow GitHib](https://github.com/tensorflow/tensorflow)\n",
        "* [TensorFlow Google Groups Support](https://groups.google.com/forum/#!forum/tensorflow)\n",
        "* [TensorFlow Google Groups Developer Discussion](https://groups.google.com/a/tensorflow.org/forum/#!forum/discuss)\n",
        "* [TensorFlow FAQ](https://www.tensorflow.org/resources/faq)\n"
      ]
    },
    {
      "metadata": {
        "id": "cBsU3U-x3BJV",
        "colab_type": "code",
        "colab": {
          "base_uri": "https://localhost:8080/",
          "height": 34
        },
        "outputId": "075de29e-9c16-423b-ffde-a5b5acc836f3"
      },
      "cell_type": "code",
      "source": [
        "import tensorflow as tf\n",
        "print(\"versão do TensorFlow : {}\".format(tf.__version__))"
      ],
      "execution_count": 1,
      "outputs": [
        {
          "output_type": "stream",
          "text": [
            "versão do TensorFlow : 1.12.0\n"
          ],
          "name": "stdout"
        }
      ]
    },
    {
      "metadata": {
        "id": "xqJ_OyJy3BJZ",
        "colab_type": "text"
      },
      "cell_type": "markdown",
      "source": [
        "# Usando TensorFlow\n",
        "\n",
        "TensorFlow é uma API de matemática de baixo nível, semelhante ao [Numpy] ( http://www.numpy.org/ ). No entanto, ao contrário de Numpy, TensorFlow é construído para aprendizagem profunda. O TensorFlow funciona permitindo que você defina grafos de computação com o Python. O TensorFlow compila esses grafos de computação em um código C ++ / [CUDA] (https://developer.nvidia.com/cuda-zone) altamente eficiente."
      ]
    },
    {
      "metadata": {
        "id": "jK_NMaEP3BJb",
        "colab_type": "text"
      },
      "cell_type": "markdown",
      "source": [
        "Neste exercício, seu trabalho é criar as camadas da rede neural, necessárias para construir o modelo de regressão, usando TensorFlow e Keras. Usaremos o dataset auto-mpg.csv e nosso objetivo é prever o MPG (Milhas por Galão - algo similar a Km/Litro) dos automóveis. Por se tratar de um valor numérico, regressão é a melhor solução nesse caso!"
      ]
    },
    {
      "metadata": {
        "id": "0NUlbccA3BJc",
        "colab_type": "text"
      },
      "cell_type": "markdown",
      "source": [
        "### Funções de Transformação (função de apoio para construção do modelo)"
      ]
    },
    {
      "metadata": {
        "id": "wMPeoySs3BJd",
        "colab_type": "code",
        "colab": {}
      },
      "cell_type": "code",
      "source": [
        "# Função para preencher os valores NA\n",
        "def missing_median(df, name):\n",
        "    med = df[name].median()\n",
        "    df[name] = df[name].fillna(med)\n",
        "    \n",
        "# Converte um dataframe do Pandas para inputs x,y que o TensorFlow precisa\n",
        "def to_xy(df, target):\n",
        "    result = []\n",
        "    for x in df.columns:\n",
        "        if x != target:\n",
        "            result.append(x)\n",
        "    \n",
        "    # Descubrindo o tipo da coluna de destino.  \n",
        "    target_type = df[target].dtypes\n",
        "    target_type = target_type[0] if hasattr(target_type, '__iter__') else target_type\n",
        "    \n",
        "    # Codificação. TensorFlow gosta de 32 bits.\n",
        "    if target_type in (np.int64, np.int32):\n",
        "        # Classificação\n",
        "        dummies = pd.get_dummies(df[target])\n",
        "        return df.as_matrix(result).astype(np.float32), dummies.as_matrix().astype(np.float32)\n",
        "    else:\n",
        "        # Regressão\n",
        "        return df.as_matrix(result).astype(np.float32), df.as_matrix([target]).astype(np.float32)"
      ],
      "execution_count": 0,
      "outputs": []
    },
    {
      "metadata": {
        "id": "2WSl39Rc3BJh",
        "colab_type": "text"
      },
      "cell_type": "markdown",
      "source": [
        "# TensorFlow Regression: MPG\n",
        "\n",
        "Este exemplo mostra como codificar o conjunto de dados MPG para regressão. Isso é um pouco mais complexo que classificação, porque:\n",
        "\n",
        "* A entrada tem valores numéricos e categóricos\n",
        "* A entrada tem valores em falta (missing)\n",
        "\n",
        "Para codificar valores categóricos que fazem parte do vetor de características, use as funções de ajuda acima. "
      ]
    },
    {
      "metadata": {
        "id": "O3heDkPv6MA2",
        "colab_type": "text"
      },
      "cell_type": "markdown",
      "source": [
        "### Carregando os dados"
      ]
    },
    {
      "metadata": {
        "id": "bcuD0eQL5G0Z",
        "colab_type": "code",
        "colab": {
          "resources": {
            "http://localhost:8080/nbextensions/google.colab/files.js": {
              "data": "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",
              "ok": true,
              "headers": [
                [
                  "content-type",
                  "application/javascript"
                ]
              ],
              "status": 200,
              "status_text": ""
            }
          },
          "base_uri": "https://localhost:8080/",
          "height": 86
        },
        "outputId": "ae0cbdda-adf1-4a9f-d11d-811c9a98984b"
      },
      "cell_type": "code",
      "source": [
        "from google.colab import files\n",
        "files.upload()\n",
        "!mkdir data\n",
        "!mv *.csv data"
      ],
      "execution_count": 6,
      "outputs": [
        {
          "output_type": "display_data",
          "data": {
            "text/html": [
              "\n",
              "     <input type=\"file\" id=\"files-df8df4e5-121b-487c-a6cc-5b742a5c9e41\" name=\"files[]\" multiple disabled />\n",
              "     <output id=\"result-df8df4e5-121b-487c-a6cc-5b742a5c9e41\">\n",
              "      Upload widget is only available when the cell has been executed in the\n",
              "      current browser session. Please rerun this cell to enable.\n",
              "      </output>\n",
              "      <script src=\"/nbextensions/google.colab/files.js\"></script> "
            ],
            "text/plain": [
              "<IPython.core.display.HTML object>"
            ]
          },
          "metadata": {
            "tags": []
          }
        },
        {
          "output_type": "stream",
          "text": [
            "Saving auto-mpg.csv to auto-mpg (1).csv\n",
            "mkdir: cannot create directory ‘data’: File exists\n"
          ],
          "name": "stdout"
        }
      ]
    },
    {
      "metadata": {
        "id": "Lfcv6MYr6r2K",
        "colab_type": "code",
        "colab": {
          "base_uri": "https://localhost:8080/",
          "height": 34
        },
        "outputId": "90c90487-2a90-4abd-d126-3c606e408a34"
      },
      "cell_type": "code",
      "source": [
        "!ls data"
      ],
      "execution_count": 8,
      "outputs": [
        {
          "output_type": "stream",
          "text": [
            "'auto-mpg (1).csv'   auto-mpg.csv\n"
          ],
          "name": "stdout"
        }
      ]
    },
    {
      "metadata": {
        "id": "Z1siQNNA3BJi",
        "colab_type": "code",
        "colab": {
          "base_uri": "https://localhost:8080/",
          "height": 34
        },
        "outputId": "97f73c79-bdbe-4ac7-bb6b-ec84fbb440cf"
      },
      "cell_type": "code",
      "source": [
        "from keras.models import Sequential\n",
        "from keras.layers.core import Dense, Activation\n",
        "import pandas as pd\n",
        "import io\n",
        "import os\n",
        "import requests\n",
        "import numpy as np\n",
        "from sklearn import metrics\n",
        "\n",
        "# Define o PATH onde estão os dados\n",
        "path = \"./data\"\n",
        "\n",
        "# Carrega o dataset\n",
        "filename_read = os.path.join(path,\"auto-mpg.csv\")\n",
        "\n",
        "# Preenche com o valor NA quando não houver dados na coluna\n",
        "df = pd.read_csv(filename_read, na_values = ['NA','?'])\n",
        "\n",
        "# Separa a variável name\n",
        "cars = df['name']\n",
        "\n",
        "# A variável name não é relevante no dataset. Removemos.\n",
        "df.drop('name', 1, inplace = True)\n",
        "\n",
        "# Preenchemos os valores NA com a mediana da coluna horsepower\n",
        "missing_median(df, 'horsepower')\n",
        "\n",
        "# Convertemos o input para x e y\n",
        "x,y = to_xy(df,\"mpg\")"
      ],
      "execution_count": 9,
      "outputs": [
        {
          "output_type": "stream",
          "text": [
            "Using TensorFlow backend.\n"
          ],
          "name": "stderr"
        }
      ]
    },
    {
      "metadata": {
        "id": "3NjrxyI97PWZ",
        "colab_type": "code",
        "colab": {
          "base_uri": "https://localhost:8080/",
          "height": 204
        },
        "outputId": "b5e7d5b2-9d7a-4ece-91a8-eb372fa8f433"
      },
      "cell_type": "code",
      "source": [
        "df.head()"
      ],
      "execution_count": 10,
      "outputs": [
        {
          "output_type": "execute_result",
          "data": {
            "text/html": [
              "<div>\n",
              "<style scoped>\n",
              "    .dataframe tbody tr th:only-of-type {\n",
              "        vertical-align: middle;\n",
              "    }\n",
              "\n",
              "    .dataframe tbody tr th {\n",
              "        vertical-align: top;\n",
              "    }\n",
              "\n",
              "    .dataframe thead th {\n",
              "        text-align: right;\n",
              "    }\n",
              "</style>\n",
              "<table border=\"1\" class=\"dataframe\">\n",
              "  <thead>\n",
              "    <tr style=\"text-align: right;\">\n",
              "      <th></th>\n",
              "      <th>mpg</th>\n",
              "      <th>cylinders</th>\n",
              "      <th>displacement</th>\n",
              "      <th>horsepower</th>\n",
              "      <th>weight</th>\n",
              "      <th>acceleration</th>\n",
              "      <th>year</th>\n",
              "      <th>origin</th>\n",
              "    </tr>\n",
              "  </thead>\n",
              "  <tbody>\n",
              "    <tr>\n",
              "      <th>0</th>\n",
              "      <td>18.0</td>\n",
              "      <td>8</td>\n",
              "      <td>307.0</td>\n",
              "      <td>130.0</td>\n",
              "      <td>3504</td>\n",
              "      <td>12.0</td>\n",
              "      <td>70</td>\n",
              "      <td>1</td>\n",
              "    </tr>\n",
              "    <tr>\n",
              "      <th>1</th>\n",
              "      <td>15.0</td>\n",
              "      <td>8</td>\n",
              "      <td>350.0</td>\n",
              "      <td>165.0</td>\n",
              "      <td>3693</td>\n",
              "      <td>11.5</td>\n",
              "      <td>70</td>\n",
              "      <td>1</td>\n",
              "    </tr>\n",
              "    <tr>\n",
              "      <th>2</th>\n",
              "      <td>18.0</td>\n",
              "      <td>8</td>\n",
              "      <td>318.0</td>\n",
              "      <td>150.0</td>\n",
              "      <td>3436</td>\n",
              "      <td>11.0</td>\n",
              "      <td>70</td>\n",
              "      <td>1</td>\n",
              "    </tr>\n",
              "    <tr>\n",
              "      <th>3</th>\n",
              "      <td>16.0</td>\n",
              "      <td>8</td>\n",
              "      <td>304.0</td>\n",
              "      <td>150.0</td>\n",
              "      <td>3433</td>\n",
              "      <td>12.0</td>\n",
              "      <td>70</td>\n",
              "      <td>1</td>\n",
              "    </tr>\n",
              "    <tr>\n",
              "      <th>4</th>\n",
              "      <td>17.0</td>\n",
              "      <td>8</td>\n",
              "      <td>302.0</td>\n",
              "      <td>140.0</td>\n",
              "      <td>3449</td>\n",
              "      <td>10.5</td>\n",
              "      <td>70</td>\n",
              "      <td>1</td>\n",
              "    </tr>\n",
              "  </tbody>\n",
              "</table>\n",
              "</div>"
            ],
            "text/plain": [
              "    mpg  cylinders  displacement  horsepower  weight  acceleration  year  \\\n",
              "0  18.0          8         307.0       130.0    3504          12.0    70   \n",
              "1  15.0          8         350.0       165.0    3693          11.5    70   \n",
              "2  18.0          8         318.0       150.0    3436          11.0    70   \n",
              "3  16.0          8         304.0       150.0    3433          12.0    70   \n",
              "4  17.0          8         302.0       140.0    3449          10.5    70   \n",
              "\n",
              "   origin  \n",
              "0       1  \n",
              "1       1  \n",
              "2       1  \n",
              "3       1  \n",
              "4       1  "
            ]
          },
          "metadata": {
            "tags": []
          },
          "execution_count": 10
        }
      ]
    },
    {
      "metadata": {
        "id": "9iZ5XS457Pwx",
        "colab_type": "code",
        "colab": {
          "base_uri": "https://localhost:8080/",
          "height": 85
        },
        "outputId": "d656f3b4-6678-4ec6-ed27-3d30f4230840"
      },
      "cell_type": "code",
      "source": [
        "np.set_printoptions(precision=5, suppress=True)\n",
        "x[:3]"
      ],
      "execution_count": 12,
      "outputs": [
        {
          "output_type": "execute_result",
          "data": {
            "text/plain": [
              "array([[   8. ,  307. ,  130. , 3504. ,   12. ,   70. ,    1. ],\n",
              "       [   8. ,  350. ,  165. , 3693. ,   11.5,   70. ,    1. ],\n",
              "       [   8. ,  318. ,  150. , 3436. ,   11. ,   70. ,    1. ]],\n",
              "      dtype=float32)"
            ]
          },
          "metadata": {
            "tags": []
          },
          "execution_count": 12
        }
      ]
    },
    {
      "metadata": {
        "id": "EdBxJuQZ7ipG",
        "colab_type": "code",
        "colab": {
          "base_uri": "https://localhost:8080/",
          "height": 68
        },
        "outputId": "b38a1f96-5d9f-4947-ba63-c67768b54c24"
      },
      "cell_type": "code",
      "source": [
        "y[:3]"
      ],
      "execution_count": 13,
      "outputs": [
        {
          "output_type": "execute_result",
          "data": {
            "text/plain": [
              "array([[18.],\n",
              "       [15.],\n",
              "       [18.]], dtype=float32)"
            ]
          },
          "metadata": {
            "tags": []
          },
          "execution_count": 13
        }
      ]
    },
    {
      "metadata": {
        "id": "mbyz5RmS3BJl",
        "colab_type": "code",
        "colab": {
          "base_uri": "https://localhost:8080/",
          "height": 51
        },
        "outputId": "f97c31aa-a6b0-490a-9e64-e36abbf68a22"
      },
      "cell_type": "code",
      "source": [
        "print(len(x), len(y))\n",
        "print(x.shape)"
      ],
      "execution_count": 14,
      "outputs": [
        {
          "output_type": "stream",
          "text": [
            "398 398\n",
            "(398, 7)\n"
          ],
          "name": "stdout"
        }
      ]
    },
    {
      "metadata": {
        "id": "GY7N_GcI3BJq",
        "colab_type": "code",
        "colab": {
          "base_uri": "https://localhost:8080/",
          "height": 204
        },
        "outputId": "0c7e7f98-9b3c-4781-d90f-88868467d96d"
      },
      "cell_type": "code",
      "source": [
        "# Construindo a rede neural\n",
        "model = Sequential()\n",
        "model.add( Dense(10, input_dim =  x.shape[1], activation= 'relu'))\n",
        "model.add( Dense(1, kernel_initializer = 'normal')) \n",
        "model.compile(loss = 'mean_squared_error', optimizer = 'adam')\n",
        "\n",
        "model.summary()"
      ],
      "execution_count": 16,
      "outputs": [
        {
          "output_type": "stream",
          "text": [
            "_________________________________________________________________\n",
            "Layer (type)                 Output Shape              Param #   \n",
            "=================================================================\n",
            "dense_3 (Dense)              (None, 10)                80        \n",
            "_________________________________________________________________\n",
            "dense_4 (Dense)              (None, 1)                 11        \n",
            "=================================================================\n",
            "Total params: 91\n",
            "Trainable params: 91\n",
            "Non-trainable params: 0\n",
            "_________________________________________________________________\n"
          ],
          "name": "stdout"
        }
      ]
    },
    {
      "metadata": {
        "id": "0P9MlJdE7wCV",
        "colab_type": "code",
        "colab": {
          "base_uri": "https://localhost:8080/",
          "height": 3434
        },
        "outputId": "bd73255a-9000-4e61-fe83-79a93caf5cf2"
      },
      "cell_type": "code",
      "source": [
        "# treinando a rede neural\n",
        "model.fit(x,y,verbose = 2, epochs = 100)"
      ],
      "execution_count": 17,
      "outputs": [
        {
          "output_type": "stream",
          "text": [
            "Epoch 1/100\n",
            " - 0s - loss: 420.1421\n",
            "Epoch 2/100\n",
            " - 0s - loss: 227.7126\n",
            "Epoch 3/100\n",
            " - 0s - loss: 168.3149\n",
            "Epoch 4/100\n",
            " - 0s - loss: 155.3047\n",
            "Epoch 5/100\n",
            " - 0s - loss: 151.6968\n",
            "Epoch 6/100\n",
            " - 0s - loss: 150.0041\n",
            "Epoch 7/100\n",
            " - 0s - loss: 146.2981\n",
            "Epoch 8/100\n",
            " - 0s - loss: 143.0810\n",
            "Epoch 9/100\n",
            " - 0s - loss: 143.1372\n",
            "Epoch 10/100\n",
            " - 0s - loss: 138.0618\n",
            "Epoch 11/100\n",
            " - 0s - loss: 137.4946\n",
            "Epoch 12/100\n",
            " - 0s - loss: 135.4890\n",
            "Epoch 13/100\n",
            " - 0s - loss: 132.4612\n",
            "Epoch 14/100\n",
            " - 0s - loss: 129.8300\n",
            "Epoch 15/100\n",
            " - 0s - loss: 129.9638\n",
            "Epoch 16/100\n",
            " - 0s - loss: 126.8119\n",
            "Epoch 17/100\n",
            " - 0s - loss: 125.4602\n",
            "Epoch 18/100\n",
            " - 0s - loss: 122.3539\n",
            "Epoch 19/100\n",
            " - 0s - loss: 117.1600\n",
            "Epoch 20/100\n",
            " - 0s - loss: 117.2210\n",
            "Epoch 21/100\n",
            " - 0s - loss: 113.3834\n",
            "Epoch 22/100\n",
            " - 0s - loss: 112.9288\n",
            "Epoch 23/100\n",
            " - 0s - loss: 108.8562\n",
            "Epoch 24/100\n",
            " - 0s - loss: 115.4622\n",
            "Epoch 25/100\n",
            " - 0s - loss: 106.7578\n",
            "Epoch 26/100\n",
            " - 0s - loss: 105.5045\n",
            "Epoch 27/100\n",
            " - 0s - loss: 103.1408\n",
            "Epoch 28/100\n",
            " - 0s - loss: 100.0329\n",
            "Epoch 29/100\n",
            " - 0s - loss: 98.7824\n",
            "Epoch 30/100\n",
            " - 0s - loss: 97.2271\n",
            "Epoch 31/100\n",
            " - 0s - loss: 94.0018\n",
            "Epoch 32/100\n",
            " - 0s - loss: 92.4390\n",
            "Epoch 33/100\n",
            " - 0s - loss: 90.8559\n",
            "Epoch 34/100\n",
            " - 0s - loss: 90.0497\n",
            "Epoch 35/100\n",
            " - 0s - loss: 86.8068\n",
            "Epoch 36/100\n",
            " - 0s - loss: 84.5327\n",
            "Epoch 37/100\n",
            " - 0s - loss: 89.5526\n",
            "Epoch 38/100\n",
            " - 0s - loss: 85.8591\n",
            "Epoch 39/100\n",
            " - 0s - loss: 82.3966\n",
            "Epoch 40/100\n",
            " - 0s - loss: 81.2304\n",
            "Epoch 41/100\n",
            " - 0s - loss: 77.1706\n",
            "Epoch 42/100\n",
            " - 0s - loss: 78.4048\n",
            "Epoch 43/100\n",
            " - 0s - loss: 73.9679\n",
            "Epoch 44/100\n",
            " - 0s - loss: 73.8850\n",
            "Epoch 45/100\n",
            " - 0s - loss: 70.6077\n",
            "Epoch 46/100\n",
            " - 0s - loss: 70.4282\n",
            "Epoch 47/100\n",
            " - 0s - loss: 68.6859\n",
            "Epoch 48/100\n",
            " - 0s - loss: 66.5574\n",
            "Epoch 49/100\n",
            " - 0s - loss: 66.2571\n",
            "Epoch 50/100\n",
            " - 0s - loss: 64.6071\n",
            "Epoch 51/100\n",
            " - 0s - loss: 62.8916\n",
            "Epoch 52/100\n",
            " - 0s - loss: 62.2405\n",
            "Epoch 53/100\n",
            " - 0s - loss: 61.3870\n",
            "Epoch 54/100\n",
            " - 0s - loss: 59.1284\n",
            "Epoch 55/100\n",
            " - 0s - loss: 59.5735\n",
            "Epoch 56/100\n",
            " - 0s - loss: 58.4196\n",
            "Epoch 57/100\n",
            " - 0s - loss: 57.6674\n",
            "Epoch 58/100\n",
            " - 0s - loss: 55.0632\n",
            "Epoch 59/100\n",
            " - 0s - loss: 54.0572\n",
            "Epoch 60/100\n",
            " - 0s - loss: 53.0111\n",
            "Epoch 61/100\n",
            " - 0s - loss: 52.7100\n",
            "Epoch 62/100\n",
            " - 0s - loss: 53.6280\n",
            "Epoch 63/100\n",
            " - 0s - loss: 51.1419\n",
            "Epoch 64/100\n",
            " - 0s - loss: 48.4260\n",
            "Epoch 65/100\n",
            " - 0s - loss: 48.0101\n",
            "Epoch 66/100\n",
            " - 0s - loss: 48.0995\n",
            "Epoch 67/100\n",
            " - 0s - loss: 47.7246\n",
            "Epoch 68/100\n",
            " - 0s - loss: 46.2660\n",
            "Epoch 69/100\n",
            " - 0s - loss: 46.1608\n",
            "Epoch 70/100\n",
            " - 0s - loss: 44.3352\n",
            "Epoch 71/100\n",
            " - 0s - loss: 44.0508\n",
            "Epoch 72/100\n",
            " - 0s - loss: 43.9771\n",
            "Epoch 73/100\n",
            " - 0s - loss: 44.0162\n",
            "Epoch 74/100\n",
            " - 0s - loss: 40.7667\n",
            "Epoch 75/100\n",
            " - 0s - loss: 42.8276\n",
            "Epoch 76/100\n",
            " - 0s - loss: 41.5996\n",
            "Epoch 77/100\n",
            " - 0s - loss: 41.1466\n",
            "Epoch 78/100\n",
            " - 0s - loss: 38.2323\n",
            "Epoch 79/100\n",
            " - 0s - loss: 38.4571\n",
            "Epoch 80/100\n",
            " - 0s - loss: 38.0477\n",
            "Epoch 81/100\n",
            " - 0s - loss: 39.5259\n",
            "Epoch 82/100\n",
            " - 0s - loss: 36.9316\n",
            "Epoch 83/100\n",
            " - 0s - loss: 36.1155\n",
            "Epoch 84/100\n",
            " - 0s - loss: 37.5984\n",
            "Epoch 85/100\n",
            " - 0s - loss: 35.5884\n",
            "Epoch 86/100\n",
            " - 0s - loss: 34.3627\n",
            "Epoch 87/100\n",
            " - 0s - loss: 36.9338\n",
            "Epoch 88/100\n",
            " - 0s - loss: 34.6349\n",
            "Epoch 89/100\n",
            " - 0s - loss: 33.1627\n",
            "Epoch 90/100\n",
            " - 0s - loss: 35.1748\n",
            "Epoch 91/100\n",
            " - 0s - loss: 33.5623\n",
            "Epoch 92/100\n",
            " - 0s - loss: 31.4963\n",
            "Epoch 93/100\n",
            " - 0s - loss: 30.2545\n",
            "Epoch 94/100\n",
            " - 0s - loss: 30.5910\n",
            "Epoch 95/100\n",
            " - 0s - loss: 30.0231\n",
            "Epoch 96/100\n",
            " - 0s - loss: 29.2465\n",
            "Epoch 97/100\n",
            " - 0s - loss: 31.7000\n",
            "Epoch 98/100\n",
            " - 0s - loss: 31.4898\n",
            "Epoch 99/100\n",
            " - 0s - loss: 28.0352\n",
            "Epoch 100/100\n",
            " - 0s - loss: 29.3313\n"
          ],
          "name": "stdout"
        },
        {
          "output_type": "execute_result",
          "data": {
            "text/plain": [
              "<keras.callbacks.History at 0x7f9470b84f98>"
            ]
          },
          "metadata": {
            "tags": []
          },
          "execution_count": 17
        }
      ]
    },
    {
      "metadata": {
        "id": "d6k4RZ-w3BJw",
        "colab_type": "text"
      },
      "cell_type": "markdown",
      "source": [
        "Em seguida, iremos realizar previsões reais. Essas previsões são atribuídas à variável ** pred **. Estas são todas as previsões MPG da rede neural. Observe que esta é uma matriz 2D. Você sempre pode ver as dimensões do que é retornado ao imprimir ** pred.shape **. As redes neurais podem retornar valores múltiplos, então o resultado é sempre uma matriz. Aqui, a rede neural retorna apenas 1 valor por previsão (existem 398 carros, portanto, 398 previsões). No entanto, é necessária uma matriz 2D porque a rede neural possui o potencial de retornar mais de um valor."
      ]
    },
    {
      "metadata": {
        "id": "DeFp5j8v3BJx",
        "colab_type": "code",
        "colab": {
          "base_uri": "https://localhost:8080/",
          "height": 6800
        },
        "outputId": "07585447-c187-41cb-ed7e-25362876694e"
      },
      "cell_type": "code",
      "source": [
        "pred = model.predict(x)\n",
        "print(\"Shape: {}\".format(pred.shape))\n",
        "print(pred)"
      ],
      "execution_count": 18,
      "outputs": [
        {
          "output_type": "stream",
          "text": [
            "Shape: (398, 1)\n",
            "[[13.21737]\n",
            " [ 8.7247 ]\n",
            " [10.51556]\n",
            " [11.53299]\n",
            " [12.19471]\n",
            " [ 4.1287 ]\n",
            " [ 0.80871]\n",
            " [ 1.73474]\n",
            " [ 0.88577]\n",
            " [ 4.5357 ]\n",
            " [ 5.49162]\n",
            " [ 8.6232 ]\n",
            " [ 6.82038]\n",
            " [-5.18098]\n",
            " [22.89559]\n",
            " [19.77259]\n",
            " [19.29183]\n",
            " [19.40968]\n",
            " [23.18828]\n",
            " [26.01842]\n",
            " [25.28048]\n",
            " [23.53119]\n",
            " [23.67469]\n",
            " [19.64028]\n",
            " [19.16027]\n",
            " [ 8.95626]\n",
            " [12.37518]\n",
            " [10.67907]\n",
            " [15.4053 ]\n",
            " [23.49019]\n",
            " [21.05335]\n",
            " [22.34514]\n",
            " [22.98902]\n",
            " [16.2695 ]\n",
            " [20.44694]\n",
            " [18.84967]\n",
            " [19.65183]\n",
            " [19.73245]\n",
            " [11.46444]\n",
            " [ 8.78128]\n",
            " [12.38031]\n",
            " [14.20765]\n",
            " [11.62988]\n",
            " [10.54414]\n",
            " [11.94406]\n",
            " [15.54171]\n",
            " [23.79227]\n",
            " [18.53676]\n",
            " [18.71338]\n",
            " [21.9308 ]\n",
            " [21.80793]\n",
            " [26.42281]\n",
            " [24.38587]\n",
            " [26.0878 ]\n",
            " [24.79541]\n",
            " [24.93734]\n",
            " [25.10263]\n",
            " [23.1735 ]\n",
            " [24.32325]\n",
            " [28.50409]\n",
            " [22.80744]\n",
            " [22.75973]\n",
            " [12.06086]\n",
            " [ 8.82521]\n",
            " [14.78624]\n",
            " [12.46898]\n",
            " [13.11969]\n",
            " [ 5.48506]\n",
            " [14.16421]\n",
            " [13.57058]\n",
            " [ 7.93722]\n",
            " [25.27208]\n",
            " [14.3164 ]\n",
            " [16.91236]\n",
            " [17.7267 ]\n",
            " [14.62341]\n",
            " [23.88801]\n",
            " [25.44926]\n",
            " [27.08149]\n",
            " [26.01372]\n",
            " [23.42546]\n",
            " [24.69965]\n",
            " [23.43695]\n",
            " [24.06589]\n",
            " [24.05604]\n",
            " [11.00395]\n",
            " [13.4216 ]\n",
            " [12.80774]\n",
            " [16.81805]\n",
            " [13.26617]\n",
            " [ 8.10264]\n",
            " [11.41108]\n",
            " [13.44586]\n",
            " [15.75018]\n",
            " [ 5.0568 ]\n",
            " [ 4.37461]\n",
            " [ 8.74638]\n",
            " [19.80994]\n",
            " [19.72229]\n",
            " [18.88219]\n",
            " [19.18247]\n",
            " [21.10001]\n",
            " [27.54518]\n",
            " [14.22586]\n",
            " [12.20396]\n",
            " [13.30557]\n",
            " [12.32656]\n",
            " [17.97548]\n",
            " [25.66882]\n",
            " [24.46436]\n",
            " [24.50682]\n",
            " [25.17994]\n",
            " [23.91915]\n",
            " [20.37096]\n",
            " [24.42357]\n",
            " [13.23361]\n",
            " [ 3.90528]\n",
            " [28.35964]\n",
            " [24.02584]\n",
            " [24.53308]\n",
            " [24.09537]\n",
            " [11.25367]\n",
            " [23.00716]\n",
            " [21.11104]\n",
            " [ 8.24347]\n",
            " [22.39898]\n",
            " [21.46729]\n",
            " [18.98478]\n",
            " [20.08706]\n",
            " [27.16652]\n",
            " [24.84523]\n",
            " [27.67886]\n",
            " [24.67416]\n",
            " [22.10325]\n",
            " [20.38276]\n",
            " [22.34098]\n",
            " [17.23744]\n",
            " [16.24575]\n",
            " [16.84901]\n",
            " [19.88911]\n",
            " [17.17381]\n",
            " [25.25629]\n",
            " [26.25705]\n",
            " [25.66797]\n",
            " [26.63662]\n",
            " [27.63142]\n",
            " [25.25316]\n",
            " [25.64467]\n",
            " [24.42656]\n",
            " [24.06372]\n",
            " [24.74018]\n",
            " [26.52465]\n",
            " [21.73211]\n",
            " [20.36113]\n",
            " [23.78076]\n",
            " [22.23945]\n",
            " [11.29844]\n",
            " [15.6594 ]\n",
            " [17.5366 ]\n",
            " [16.25215]\n",
            " [24.13328]\n",
            " [22.84544]\n",
            " [21.32864]\n",
            " [24.69244]\n",
            " [19.00095]\n",
            " [17.95684]\n",
            " [13.58302]\n",
            " [26.18506]\n",
            " [24.79924]\n",
            " [19.34559]\n",
            " [25.27141]\n",
            " [24.27677]\n",
            " [26.97573]\n",
            " [25.0786 ]\n",
            " [23.21512]\n",
            " [25.25715]\n",
            " [21.66156]\n",
            " [25.47676]\n",
            " [27.31069]\n",
            " [25.92672]\n",
            " [23.17565]\n",
            " [26.83247]\n",
            " [26.00481]\n",
            " [25.03017]\n",
            " [23.68438]\n",
            " [26.30272]\n",
            " [25.36509]\n",
            " [17.7985 ]\n",
            " [16.14311]\n",
            " [18.43235]\n",
            " [14.10336]\n",
            " [21.38839]\n",
            " [19.88286]\n",
            " [23.77479]\n",
            " [21.51256]\n",
            " [29.05747]\n",
            " [28.23388]\n",
            " [25.59906]\n",
            " [27.1144 ]\n",
            " [23.74209]\n",
            " [24.26382]\n",
            " [21.16052]\n",
            " [20.11322]\n",
            " [24.19917]\n",
            " [26.96439]\n",
            " [26.49445]\n",
            " [24.93356]\n",
            " [26.55492]\n",
            " [15.05043]\n",
            " [30.0104 ]\n",
            " [24.05251]\n",
            " [26.41935]\n",
            " [12.61319]\n",
            " [13.8171 ]\n",
            " [17.58375]\n",
            " [14.37216]\n",
            " [27.19776]\n",
            " [24.72298]\n",
            " [27.85072]\n",
            " [23.63425]\n",
            " [27.02245]\n",
            " [16.09744]\n",
            " [23.58033]\n",
            " [16.74365]\n",
            " [19.79127]\n",
            " [20.93608]\n",
            " [22.11874]\n",
            " [23.94888]\n",
            " [22.40306]\n",
            " [ 9.02208]\n",
            " [12.57144]\n",
            " [ 8.94732]\n",
            " [15.51995]\n",
            " [24.94267]\n",
            " [24.62257]\n",
            " [27.65462]\n",
            " [25.22647]\n",
            " [26.77305]\n",
            " [25.12105]\n",
            " [26.64245]\n",
            " [25.99537]\n",
            " [25.07454]\n",
            " [23.70305]\n",
            " [26.9535 ]\n",
            " [29.57476]\n",
            " [25.18681]\n",
            " [29.82769]\n",
            " [28.25058]\n",
            " [27.00166]\n",
            " [20.03359]\n",
            " [15.49585]\n",
            " [15.69514]\n",
            " [23.37889]\n",
            " [24.06792]\n",
            " [23.49764]\n",
            " [25.36689]\n",
            " [23.24469]\n",
            " [22.60278]\n",
            " [21.99685]\n",
            " [24.15332]\n",
            " [23.63501]\n",
            " [19.23439]\n",
            " [14.47784]\n",
            " [17.18907]\n",
            " [13.72152]\n",
            " [17.15895]\n",
            " [27.06099]\n",
            " [24.75615]\n",
            " [24.41449]\n",
            " [26.04612]\n",
            " [24.67221]\n",
            " [23.48056]\n",
            " [25.9965 ]\n",
            " [24.93021]\n",
            " [25.7482 ]\n",
            " [23.2341 ]\n",
            " [25.08307]\n",
            " [24.28091]\n",
            " [26.56529]\n",
            " [27.52757]\n",
            " [20.83673]\n",
            " [24.39268]\n",
            " [26.8189 ]\n",
            " [23.35382]\n",
            " [22.33908]\n",
            " [18.2555 ]\n",
            " [17.58972]\n",
            " [14.98962]\n",
            " [17.01327]\n",
            " [15.91417]\n",
            " [15.34996]\n",
            " [19.75178]\n",
            " [13.42292]\n",
            " [26.39277]\n",
            " [27.76815]\n",
            " [24.93119]\n",
            " [27.10652]\n",
            " [28.97757]\n",
            " [16.64103]\n",
            " [31.19655]\n",
            " [23.46508]\n",
            " [26.33739]\n",
            " [26.45075]\n",
            " [28.83112]\n",
            " [27.49688]\n",
            " [24.75517]\n",
            " [20.5151 ]\n",
            " [21.3107 ]\n",
            " [23.67881]\n",
            " [26.90739]\n",
            " [28.96524]\n",
            " [27.15224]\n",
            " [28.50934]\n",
            " [25.19328]\n",
            " [27.19014]\n",
            " [27.38554]\n",
            " [24.69681]\n",
            " [27.23195]\n",
            " [26.68922]\n",
            " [28.31012]\n",
            " [26.07061]\n",
            " [27.3076 ]\n",
            " [29.22153]\n",
            " [23.87374]\n",
            " [29.54081]\n",
            " [30.67166]\n",
            " [32.20419]\n",
            " [31.06256]\n",
            " [31.18188]\n",
            " [26.77292]\n",
            " [25.45073]\n",
            " [28.59304]\n",
            " [27.2855 ]\n",
            " [21.7885 ]\n",
            " [27.6641 ]\n",
            " [26.2511 ]\n",
            " [26.16526]\n",
            " [28.07123]\n",
            " [25.89551]\n",
            " [25.7426 ]\n",
            " [24.36166]\n",
            " [22.35302]\n",
            " [24.85997]\n",
            " [28.66993]\n",
            " [27.69867]\n",
            " [28.25983]\n",
            " [28.49249]\n",
            " [29.27106]\n",
            " [29.18467]\n",
            " [28.0493 ]\n",
            " [27.88837]\n",
            " [27.63951]\n",
            " [30.057  ]\n",
            " [27.05629]\n",
            " [26.7597 ]\n",
            " [27.25972]\n",
            " [28.3145 ]\n",
            " [26.53628]\n",
            " [29.27037]\n",
            " [30.40854]\n",
            " [30.27358]\n",
            " [23.51768]\n",
            " [24.89135]\n",
            " [22.67596]\n",
            " [18.31268]\n",
            " [24.86261]\n",
            " [25.34465]\n",
            " [28.55538]\n",
            " [28.51404]\n",
            " [27.28404]\n",
            " [27.97082]\n",
            " [26.41598]\n",
            " [26.35527]\n",
            " [27.12326]\n",
            " [27.94468]\n",
            " [26.62667]\n",
            " [28.97229]\n",
            " [28.60315]\n",
            " [27.74252]\n",
            " [28.1386 ]\n",
            " [25.58185]\n",
            " [27.55898]\n",
            " [28.54589]\n",
            " [28.13771]\n",
            " [28.27765]\n",
            " [28.51355]\n",
            " [23.93653]\n",
            " [21.49125]\n",
            " [24.52497]\n",
            " [19.91667]\n",
            " [25.70888]\n",
            " [25.11393]\n",
            " [27.18942]\n",
            " [27.08576]\n",
            " [31.33545]\n",
            " [24.49421]\n",
            " [28.66453]\n",
            " [29.08313]]\n"
          ],
          "name": "stdout"
        }
      ]
    },
    {
      "metadata": {
        "id": "qpeYqlq_3BJ3",
        "colab_type": "text"
      },
      "cell_type": "markdown",
      "source": [
        "Gostaríamos de ver quão boas são essas previsões. Sabemos qual é o MPG correto para cada carro, então podemos medir a proximidade da rede neural."
      ]
    },
    {
      "metadata": {
        "id": "bOl9Zm4D3BJ3",
        "colab_type": "code",
        "colab": {
          "base_uri": "https://localhost:8080/",
          "height": 34
        },
        "outputId": "83adc6de-acd8-45a0-e1f3-db4d7937f8e5"
      },
      "cell_type": "code",
      "source": [
        "# Usamos a métrica de erro RMSE. O RMSE é comum para a regressão.\n",
        "score = np.sqrt(metrics.mean_squared_error(pred,y))\n",
        "print(\"Final score (RMSE): {}\".format(score))"
      ],
      "execution_count": 19,
      "outputs": [
        {
          "output_type": "stream",
          "text": [
            "Final score (RMSE): 5.300751686096191\n"
          ],
          "name": "stdout"
        }
      ]
    },
    {
      "metadata": {
        "id": "tWG1IB_53BJ6",
        "colab_type": "text"
      },
      "cell_type": "markdown",
      "source": [
        "Isso significa que, em média, as previsões estavam dentro de +/- 6,24 valores do valor correto. Isso não é muito bom, mas logo veremos como melhorá-lo.\n",
        "\n",
        "Nós também podemos imprimir os primeiros 10 carros, com previsões e MPG real."
      ]
    },
    {
      "metadata": {
        "id": "iAJq0sjz3BJ7",
        "colab_type": "code",
        "colab": {
          "base_uri": "https://localhost:8080/",
          "height": 187
        },
        "outputId": "8c10ca4a-6f36-4994-ac9e-54a4477936ed"
      },
      "cell_type": "code",
      "source": [
        "# Previsões\n",
        "for i in range(10):\n",
        "    print(\"{}. Nome do Carro: {}, MPG Real: {}, MPG Previsto: {}\".format(i+1,cars[i],y[i],pred[i]))"
      ],
      "execution_count": 20,
      "outputs": [
        {
          "output_type": "stream",
          "text": [
            "1. Nome do Carro: chevrolet chevelle malibu, MPG Real: [18.], MPG Previsto: [13.21737]\n",
            "2. Nome do Carro: buick skylark 320, MPG Real: [15.], MPG Previsto: [8.7247]\n",
            "3. Nome do Carro: plymouth satellite, MPG Real: [18.], MPG Previsto: [10.51556]\n",
            "4. Nome do Carro: amc rebel sst, MPG Real: [16.], MPG Previsto: [11.53299]\n",
            "5. Nome do Carro: ford torino, MPG Real: [17.], MPG Previsto: [12.19471]\n",
            "6. Nome do Carro: ford galaxie 500, MPG Real: [15.], MPG Previsto: [4.1287]\n",
            "7. Nome do Carro: chevrolet impala, MPG Real: [14.], MPG Previsto: [0.80871]\n",
            "8. Nome do Carro: plymouth fury iii, MPG Real: [14.], MPG Previsto: [1.73474]\n",
            "9. Nome do Carro: pontiac catalina, MPG Real: [14.], MPG Previsto: [0.88577]\n",
            "10. Nome do Carro: amc ambassador dpl, MPG Real: [15.], MPG Previsto: [4.5357]\n"
          ],
          "name": "stdout"
        }
      ]
    },
    {
      "metadata": {
        "collapsed": true,
        "id": "7k46Ja9_3BJ_",
        "colab_type": "text"
      },
      "cell_type": "markdown",
      "source": [
        "# Carregando/Salvando o Modelo Treinado\n",
        "\n",
        "Quando a rede neural é criada, devemos especificar um diretório no qual a rede neural é salva. Muitas vezes, especificamos esse diretório para que o treinamento possa começar de novo. Esta definição é realizada chamando o método ** get_model_dir ** com o segundo parâmetro igual a TRUE. O código abaixo treina uma rede neural do MPG, exatamente como antes, salva e depois carrega para ser reutilizado."
      ]
    },
    {
      "metadata": {
        "id": "bLDh8mWD-oHx",
        "colab_type": "code",
        "colab": {}
      },
      "cell_type": "code",
      "source": [
        "!rm -rf save"
      ],
      "execution_count": 0,
      "outputs": []
    },
    {
      "metadata": {
        "id": "j92oDao73BKA",
        "colab_type": "code",
        "colab": {
          "base_uri": "https://localhost:8080/",
          "height": 51
        },
        "outputId": "eac63527-42dc-473a-b138-d226b3cbe260"
      },
      "cell_type": "code",
      "source": [
        "from keras.models import Sequential\n",
        "from keras.layers.core import Dense, Activation\n",
        "import pandas as pd\n",
        "import io\n",
        "import requests\n",
        "import numpy as np\n",
        "from sklearn import metrics\n",
        "path = \"./data\"\n",
        "save_path = \"./save\"\n",
        "\n",
        "!mkdir save\n",
        "\n",
        "filename_read = os.path.join(path,\"auto-mpg.csv\")\n",
        "df = pd.read_csv(filename_read, na_values = ['NA','?'])\n",
        "\n",
        "cars = df['name']\n",
        "df.drop('name',1,inplace=True)\n",
        "missing_median(df, 'horsepower')\n",
        "x,y = to_xy(df,\"mpg\")\n",
        "\n",
        "model = Sequential()\n",
        "model.add( Dense(10, input_dim =  x.shape[1], activation= 'relu'))\n",
        "model.add( Dense(1, kernel_initializer = 'normal')) \n",
        "model.compile(loss = 'mean_squared_error', optimizer = 'adam')\n",
        "model.fit(x, y, verbose = 0, epochs = 100)\n",
        "\n",
        "# Previsões\n",
        "pred = model.predict(x)\n",
        "\n",
        "# Usamos a métrica de erro RMSE. O RMSE é comum para a regressão.\n",
        "score = np.sqrt(metrics.mean_squared_error(pred,y))\n",
        "print(\"Score antes de salvar o modelo (RMSE): {}\".format(score))\n",
        "\n",
        "# Salvando a estrutura da rede em formato JSON (sem os pesos)\n",
        "model_json = model.to_json()\n",
        "with open(os.path.join(save_path,\"network.json\"), \"w\") as json_file:\n",
        "    json_file.write(model_json)\n",
        "\n",
        "# Salvando a estrutura da rede em formato YAML (sem os pesos)\n",
        "model_yaml = model.to_yaml()\n",
        "with open(os.path.join(save_path,\"network.yaml\"), \"w\") as yaml_file:\n",
        "    yaml_file.write(model_yaml)\n",
        "\n",
        "# Salvando a rede inteira no formato HDF5 (salvando todos os componentes da rede, incluindo os pesos)\n",
        "model.save(os.path.join(save_path,\"network.h5\"))\n",
        "print(\"modelo salvo...\")"
      ],
      "execution_count": 24,
      "outputs": [
        {
          "output_type": "stream",
          "text": [
            "Score antes de salvar o modelo (RMSE): 6.023092746734619\n",
            "modelo salvo...\n"
          ],
          "name": "stdout"
        }
      ]
    },
    {
      "metadata": {
        "id": "hSN7h4cO3BKD",
        "colab_type": "text"
      },
      "cell_type": "markdown",
      "source": [
        "Agora recarregamos a rede e realizamos outra previsão. O RMSE deve corresponder ao anterior, exatamente se a rede neural foi realmente salva e recarregada."
      ]
    },
    {
      "metadata": {
        "id": "FLTXfhC93BKD",
        "colab_type": "code",
        "colab": {
          "base_uri": "https://localhost:8080/",
          "height": 34
        },
        "outputId": "90be9582-fa0d-4f53-eddf-c0fc70f70d63"
      },
      "cell_type": "code",
      "source": [
        "from keras.models import load_model\n",
        "model2 = load_model(os.path.join(save_path,\"network.h5\"))\n",
        "pred = model2.predict(x)\n",
        "\n",
        "score = np.sqrt(metrics.mean_squared_error(pred, y))\n",
        "print(\"Score depois de carregar o modelo salvo (RMSE): {}\".format(score))"
      ],
      "execution_count": 25,
      "outputs": [
        {
          "output_type": "stream",
          "text": [
            "Score depois de carregar o modelo salvo (RMSE): 6.023092746734619\n"
          ],
          "name": "stdout"
        }
      ]
    }
  ]
}