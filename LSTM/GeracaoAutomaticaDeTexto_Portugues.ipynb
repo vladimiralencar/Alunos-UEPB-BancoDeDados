{
  "nbformat": 4,
  "nbformat_minor": 0,
  "metadata": {
    "colab": {
      "name": "GeracaoAutomaticaDeTexto-Portugues.ipynb",
      "version": "0.3.2",
      "provenance": [],
      "include_colab_link": true
    },
    "kernelspec": {
      "display_name": "Python 3",
      "language": "python",
      "name": "python3"
    }
  },
  "cells": [
    {
      "cell_type": "markdown",
      "metadata": {
        "id": "view-in-github",
        "colab_type": "text"
      },
      "source": [
        "<a href=\"https://colab.research.google.com/github/vladimiralencar/Alunos-UEPB-BancoDeDados/blob/master/LSTM/GeracaoAutomaticaDeTexto_Portugues.ipynb\" target=\"_parent\"><img src=\"https://colab.research.google.com/assets/colab-badge.svg\" alt=\"Open In Colab\"/></a>"
      ]
    },
    {
      "metadata": {
        "id": "jpfguOONcQjX",
        "colab_type": "text"
      },
      "cell_type": "markdown",
      "source": [
        "## Geração Automática de Texto com LSTMs - Português"
      ]
    },
    {
      "metadata": {
        "id": "xdRQKCrocQjZ",
        "colab_type": "text"
      },
      "cell_type": "markdown",
      "source": [
        "As Redes Neurais Recorrentes também podem ser usadas como modelos generativos. Isso significa que além de serem usadas como modelos preditivos (fazendo previsões), elas podem aprender as sequências de um problema e, em seguida, gerar sequências plausíveis inteiramente novas para o domínio do problema. Modelos Generativos como este são úteis não apenas para estudar o quão bem um modelo aprendeu um problema, mas para saber mais sobre o próprio domínio do problema. "
      ]
    },
    {
      "metadata": {
        "id": "eHHuOH1vcQja",
        "colab_type": "text"
      },
      "cell_type": "markdown",
      "source": [
        "Uma boa forma de praticar a criação de texto, é usando livros clássicos, os quais já temos uma boa ideia sobre a história e que não estejamos violando nenhum direito de copyright. Muitos livros clássicos já não possuem mais restrição de uso e podem ser usados gratuitamente. Um bom lugar para encontrar esses livros é no site do Projeto Gutenberg. É de lá que usaremos o livro para o qual criaremos um modelo generativo: Alice no País das Maravilhas ou o nome em inglês Alice's Adventures in Wonderland. O arquivo txt do livro pode ser baixado aqui: https://www.gutenberg.org/ebooks/11. \n",
        "Este livro tem cerca de 3.300 linhas de texto. O cabeçalho e a marca de final de arquivo foram removidos, já que não são necessários para o que vamos fazer."
      ]
    },
    {
      "metadata": {
        "id": "yl1mwyXMcQjc",
        "colab_type": "text"
      },
      "cell_type": "markdown",
      "source": [
        "Vamos aprender as dependências entre os caracteres e as probabilidades condicionais de caracteres em sequências para que possamos gerar sequências totalmente novas e originais de caracteres. Esta é uma tarefa divertida e recomendo repetir essas experiências com outros livros do Projeto Gutenberg. Essas experiências não se limitam ao texto, você também pode experimentar com outros dados ASCII, como código fonte de linguagens de programação, documentos marcados em LaTeX, HTML ou Markdown e muito mais. \n",
        "\n",
        "Faremos aqui algo muito similar ao que foi feito pelo programador, que escreveu um novo livro de Game ofthrones: http://www.businessinsider.com/ai-just-wrote-the-next-book-of-game-of-thrones-for-us-2017-8"
      ]
    },
    {
      "metadata": {
        "id": "IDTodJ00cQje",
        "colab_type": "code",
        "colab": {
          "base_uri": "https://localhost:8080/",
          "height": 34
        },
        "outputId": "72ca9a25-d9b4-4eb2-84df-8071129536ea"
      },
      "cell_type": "code",
      "source": [
        "# Imports\n",
        "import numpy\n",
        "import sys\n",
        "from keras.models import Sequential\n",
        "from keras.layers import Dense\n",
        "from keras.layers import Dropout\n",
        "from keras.layers import LSTM\n",
        "from keras.callbacks import ModelCheckpoint\n",
        "from keras.utils import np_utils"
      ],
      "execution_count": 1,
      "outputs": [
        {
          "output_type": "stream",
          "text": [
            "Using TensorFlow backend.\n"
          ],
          "name": "stderr"
        }
      ]
    },
    {
      "metadata": {
        "id": "bC53zESacQjn",
        "colab_type": "code",
        "colab": {
          "base_uri": "https://localhost:8080/",
          "height": 323
        },
        "outputId": "5728bf35-ac65-4eeb-d337-13c6d53e1fbb"
      },
      "cell_type": "code",
      "source": [
        "# Carregamos os dados e convertemos para lowercase \n",
        "# Estamos usando aqui arquivo texto no formato ASCII\n",
        "!wget https://raw.githubusercontent.com/vladimiralencar/DeepLearning-LANA/master/LSTM/data/O_Alienista.txt\n",
        "filename = \"O_Alienista.txt\" # livro de Machado de Assis\n",
        "raw_text = open(filename).read()\n",
        "raw_text = raw_text.lower()\n",
        "print(raw_text[:500])"
      ],
      "execution_count": 3,
      "outputs": [
        {
          "output_type": "stream",
          "text": [
            "--2019-01-23 11:29:07--  https://raw.githubusercontent.com/vladimiralencar/DeepLearning-LANA/master/LSTM/data/O_Alienista.txt\n",
            "Resolving raw.githubusercontent.com (raw.githubusercontent.com)... 151.101.0.133, 151.101.64.133, 151.101.128.133, ...\n",
            "Connecting to raw.githubusercontent.com (raw.githubusercontent.com)|151.101.0.133|:443... connected.\n",
            "HTTP request sent, awaiting response... 200 OK\n",
            "Length: 102196 (100K) [text/plain]\n",
            "Saving to: ‘O_Alienista.txt.1’\n",
            "\n",
            "\rO_Alienista.txt.1     0%[                    ]       0  --.-KB/s               \rO_Alienista.txt.1   100%[===================>]  99.80K  --.-KB/s    in 0.04s   \n",
            "\n",
            "2019-01-23 11:29:07 (2.66 MB/s) - ‘O_Alienista.txt.1’ saved [102196/102196]\n",
            "\n",
            "\n",
            "as crônicas da vila de itaguaí dizem que em tempos remotos vivera ali um certo médico, o dr.\n",
            "simão bacamarte, filho da nobreza da terra e o maior dos médicos do brasil, de portugal e das espanhas.\n",
            "estudara em coimbra e pádua. aos trinta e quatro anos regressou ao brasil, não podendo el-rei alcançar dele\n",
            "que ficasse em coimbra, regendo a universidade, ou em lisboa, expedindo os negócios da monarquia.\n",
            "—a ciência, disse ele a sua majestade, é o meu emprego único; itaguaí é o meu universo.\n",
            "dito iss\n"
          ],
          "name": "stdout"
        }
      ]
    },
    {
      "metadata": {
        "id": "RArAOlfLcQjr",
        "colab_type": "text"
      },
      "cell_type": "markdown",
      "source": [
        "Agora que o livro está carregado, devemos preparar os dados para modelagem. Não podemos modelar os caracteres diretamente, em vez disso, devemos converter os caracteres em números inteiros. Podemos fazer isso facilmente, criando um conjunto de todos os caracteres distintos do livro, então criando um mapa de cada caractere para um único inteiro."
      ]
    },
    {
      "metadata": {
        "id": "B02Sj47vcQjt",
        "colab_type": "code",
        "colab": {}
      },
      "cell_type": "code",
      "source": [
        "# Criando o mapeamento caracter/inteiro\n",
        "chars = sorted(list(set(raw_text)))\n",
        "char_to_int = dict((c, i) for i, c in enumerate(chars))"
      ],
      "execution_count": 0,
      "outputs": []
    },
    {
      "metadata": {
        "id": "COTFYyDacQjy",
        "colab_type": "code",
        "colab": {
          "base_uri": "https://localhost:8080/",
          "height": 1139
        },
        "outputId": "e01b8cd0-18a5-42e8-ce97-72abeea66344"
      },
      "cell_type": "code",
      "source": [
        "chars"
      ],
      "execution_count": 5,
      "outputs": [
        {
          "output_type": "execute_result",
          "data": {
            "text/plain": [
              "['\\n',\n",
              " ' ',\n",
              " '!',\n",
              " '\"',\n",
              " '(',\n",
              " ')',\n",
              " ',',\n",
              " '-',\n",
              " '.',\n",
              " '0',\n",
              " '1',\n",
              " '2',\n",
              " '3',\n",
              " '4',\n",
              " '5',\n",
              " '6',\n",
              " '7',\n",
              " '8',\n",
              " '9',\n",
              " ':',\n",
              " ';',\n",
              " '?',\n",
              " 'a',\n",
              " 'b',\n",
              " 'c',\n",
              " 'd',\n",
              " 'e',\n",
              " 'f',\n",
              " 'g',\n",
              " 'h',\n",
              " 'i',\n",
              " 'j',\n",
              " 'l',\n",
              " 'm',\n",
              " 'n',\n",
              " 'o',\n",
              " 'p',\n",
              " 'q',\n",
              " 'r',\n",
              " 's',\n",
              " 't',\n",
              " 'u',\n",
              " 'v',\n",
              " 'x',\n",
              " 'z',\n",
              " '§',\n",
              " '°',\n",
              " 'º',\n",
              " 'à',\n",
              " 'á',\n",
              " 'â',\n",
              " 'ã',\n",
              " 'ç',\n",
              " 'é',\n",
              " 'ê',\n",
              " 'í',\n",
              " 'ò',\n",
              " 'ó',\n",
              " 'ô',\n",
              " 'õ',\n",
              " 'ú',\n",
              " 'ü',\n",
              " '—',\n",
              " '’',\n",
              " '“',\n",
              " '”']"
            ]
          },
          "metadata": {
            "tags": []
          },
          "execution_count": 5
        }
      ]
    },
    {
      "metadata": {
        "id": "MbjaRG3NcQj3",
        "colab_type": "code",
        "colab": {
          "base_uri": "https://localhost:8080/",
          "height": 1139
        },
        "outputId": "fa2565d4-c478-480c-f93d-15f11985eebe"
      },
      "cell_type": "code",
      "source": [
        "char_to_int"
      ],
      "execution_count": 6,
      "outputs": [
        {
          "output_type": "execute_result",
          "data": {
            "text/plain": [
              "{'\\n': 0,\n",
              " ' ': 1,\n",
              " '!': 2,\n",
              " '\"': 3,\n",
              " '(': 4,\n",
              " ')': 5,\n",
              " ',': 6,\n",
              " '-': 7,\n",
              " '.': 8,\n",
              " '0': 9,\n",
              " '1': 10,\n",
              " '2': 11,\n",
              " '3': 12,\n",
              " '4': 13,\n",
              " '5': 14,\n",
              " '6': 15,\n",
              " '7': 16,\n",
              " '8': 17,\n",
              " '9': 18,\n",
              " ':': 19,\n",
              " ';': 20,\n",
              " '?': 21,\n",
              " 'a': 22,\n",
              " 'b': 23,\n",
              " 'c': 24,\n",
              " 'd': 25,\n",
              " 'e': 26,\n",
              " 'f': 27,\n",
              " 'g': 28,\n",
              " 'h': 29,\n",
              " 'i': 30,\n",
              " 'j': 31,\n",
              " 'l': 32,\n",
              " 'm': 33,\n",
              " 'n': 34,\n",
              " 'o': 35,\n",
              " 'p': 36,\n",
              " 'q': 37,\n",
              " 'r': 38,\n",
              " 's': 39,\n",
              " 't': 40,\n",
              " 'u': 41,\n",
              " 'v': 42,\n",
              " 'x': 43,\n",
              " 'z': 44,\n",
              " '§': 45,\n",
              " '°': 46,\n",
              " 'º': 47,\n",
              " 'à': 48,\n",
              " 'á': 49,\n",
              " 'â': 50,\n",
              " 'ã': 51,\n",
              " 'ç': 52,\n",
              " 'é': 53,\n",
              " 'ê': 54,\n",
              " 'í': 55,\n",
              " 'ò': 56,\n",
              " 'ó': 57,\n",
              " 'ô': 58,\n",
              " 'õ': 59,\n",
              " 'ú': 60,\n",
              " 'ü': 61,\n",
              " '—': 62,\n",
              " '’': 63,\n",
              " '“': 64,\n",
              " '”': 65}"
            ]
          },
          "metadata": {
            "tags": []
          },
          "execution_count": 6
        }
      ]
    },
    {
      "metadata": {
        "id": "WWQYruc6cQj8",
        "colab_type": "text"
      },
      "cell_type": "markdown",
      "source": [
        "Pode haver alguns caracteres que podemos remover para limpar mais o conjunto de dados que reduzirá o vocabulário e poderá melhorar o processo de modelagem. "
      ]
    },
    {
      "metadata": {
        "id": "i9CEE3uycQj-",
        "colab_type": "code",
        "colab": {
          "base_uri": "https://localhost:8080/",
          "height": 51
        },
        "outputId": "075dbc9d-0cdb-4083-b2bd-ac23f04bef91"
      },
      "cell_type": "code",
      "source": [
        "n_chars = len(raw_text)\n",
        "n_vocab = len(chars)\n",
        "print (\"Total Characters: {:,d}\".format(n_chars))  \n",
        "print (\"Total Vocab: \", n_vocab)"
      ],
      "execution_count": 7,
      "outputs": [
        {
          "output_type": "stream",
          "text": [
            "Total Characters: 99,080\n",
            "Total Vocab:  66\n"
          ],
          "name": "stdout"
        }
      ]
    },
    {
      "metadata": {
        "id": "EfcW82pacQkE",
        "colab_type": "text"
      },
      "cell_type": "markdown",
      "source": [
        "Podemos ver que o livro tem pouco mais de 99.000 caracteres e que quando convertidos para minúsculas, existem apenas 44 caracteres distintos no vocabulário para a rede aprender, muito mais do que os 26 no alfabeto. Agora, precisamos definir os dados de treinamento para a rede. Existe muita flexibilidade em como você escolhe dividir o texto e expô-lo a rede durante o treino. Aqui dividiremos o texto do livro em subsequências com um comprimento de 100 caracteres, um comprimento arbitrário. Poderíamos facilmente dividir os dados por sentenças e ajustar as sequências mais curtas e truncar as mais longas. Cada padrão de treinamento da rede é composto de 100 passos de tempo (time steps) de um caractere (X) seguido por um caracter de saída (y). Ao criar essas sequências, deslizamos esta janela ao longo de todo o livro um caracter de cada vez, permitindo que cada caracter tenha a chance de ser aprendido a partir dos 100 caracteres que o precederam (exceto os primeiros 100 caracteres, é claro). Por exemplo, se o comprimento da sequência é 5 (para simplificar), os dois primeiros padrões de treinamento seriam os seguintes:\n",
        "\n",
        "* Palavra: CHAPTER\n",
        "* CHAPT -> E\n",
        "* HAPTE -> R"
      ]
    },
    {
      "metadata": {
        "id": "FxnSFcwQcQkG",
        "colab_type": "code",
        "colab": {
          "base_uri": "https://localhost:8080/",
          "height": 34
        },
        "outputId": "1c88fb61-2ee0-4e14-9b89-4d5fd9c3357f"
      },
      "cell_type": "code",
      "source": [
        "# À medida que dividimos o livro em sequências, convertemos os caracteres em números inteiros usando nossa\n",
        "# tabela de pesquisa que preparamos anteriormente.\n",
        "seq_length = 100\n",
        "dataX = []\n",
        "dataY = []\n",
        "\n",
        "for i in range(0, n_chars - seq_length, 1):\n",
        "    seq_in = raw_text[i:i + seq_length]\n",
        "    seq_out = raw_text[i + seq_length]\n",
        "    dataX.append([char_to_int[char] for char in seq_in])\n",
        "    dataY.append(char_to_int[seq_out])\n",
        "n_patterns = len(dataX)\n",
        "print (\"Total de Padrões: \", n_patterns)"
      ],
      "execution_count": 8,
      "outputs": [
        {
          "output_type": "stream",
          "text": [
            "Total de Padrões:  98980\n"
          ],
          "name": "stdout"
        }
      ]
    },
    {
      "metadata": {
        "id": "OdzyL7FUcQkK",
        "colab_type": "text"
      },
      "cell_type": "markdown",
      "source": [
        "Agora que preparamos nossos dados de treinamento, precisamos transformá-lo para que possamos usá-lo com o Keras. Primeiro, devemos transformar a lista de sequências de entrada na forma [amostras, passos de tempo, recursos] esperados por uma rede LSTM. Em seguida, precisamos redimensionar os números inteiros para o intervalo de 0 a 1 para tornar os padrões mais fáceis de aprender pela rede LSTM que usa a função de ativação sigmoide por padrão."
      ]
    },
    {
      "metadata": {
        "id": "vqBouJmbcQkL",
        "colab_type": "code",
        "colab": {}
      },
      "cell_type": "code",
      "source": [
        "# Reshape de X para [samples, time steps, features]\n",
        "X = numpy.reshape(dataX, (n_patterns, seq_length, 1))\n",
        "\n",
        "# Normalização\n",
        "X = X / float(n_vocab)"
      ],
      "execution_count": 0,
      "outputs": []
    },
    {
      "metadata": {
        "id": "mZjebOS5cQkQ",
        "colab_type": "text"
      },
      "cell_type": "markdown",
      "source": [
        "Finalmente, precisamos converter os padrões de saída (caracteres únicos convertidos em números inteiros) usando Hot-Encoding. Isto é para que possamos configurar a rede para prever a probabilidade de cada um dos 44 caracteres diferentes no vocabulário (uma representação mais fácil) em vez de tentar forçá-lo a prever com precisão o próximo caracter. Cada valor de y é convertido em um vetor com um comprimento 66, cheio de zeros, exceto com um 1 na coluna para a letra (inteiro) que o padrão representa. Por exemplo, quando a letra n (valor inteiro 30) tiver sido transformada usando One-Hot Encoding, vai se parecer com isso:\n",
        "\n",
        "[ 0. 0. 0. 0. 0. 0. 0. 0. 0. 0. 0. 0. 0. 0. 0. 0. 0. 0. 0. 0. 0. 0. 0. 0. 0. 0. 0. 0. 0. 0. 1. 0. 0. 0. 0. 0. 0. 0. 0. 0. 0. 0. 0. 0.]\n"
      ]
    },
    {
      "metadata": {
        "id": "rNubH9OQcQkS",
        "colab_type": "code",
        "colab": {
          "base_uri": "https://localhost:8080/",
          "height": 102
        },
        "outputId": "42fe6465-a0d6-4875-f286-c6f0a6ff40b3"
      },
      "cell_type": "code",
      "source": [
        "# One-Hot Encoding da variável de saída\n",
        "y = np_utils.to_categorical(dataY)\n",
        "y[0]"
      ],
      "execution_count": 10,
      "outputs": [
        {
          "output_type": "execute_result",
          "data": {
            "text/plain": [
              "array([0., 0., 0., 0., 0., 0., 0., 0., 0., 0., 0., 0., 0., 0., 0., 0., 0.,\n",
              "       0., 0., 0., 0., 0., 0., 1., 0., 0., 0., 0., 0., 0., 0., 0., 0., 0.,\n",
              "       0., 0., 0., 0., 0., 0., 0., 0., 0., 0., 0., 0., 0., 0., 0., 0., 0.,\n",
              "       0., 0., 0., 0., 0., 0., 0., 0., 0., 0., 0., 0., 0., 0., 0.],\n",
              "      dtype=float32)"
            ]
          },
          "metadata": {
            "tags": []
          },
          "execution_count": 10
        }
      ]
    },
    {
      "metadata": {
        "id": "sHEj28W7cQkX",
        "colab_type": "code",
        "colab": {
          "base_uri": "https://localhost:8080/",
          "height": 34
        },
        "outputId": "9ccb33af-f5b9-40f8-a2b1-8ab8de760415"
      },
      "cell_type": "code",
      "source": [
        "X.shape"
      ],
      "execution_count": 11,
      "outputs": [
        {
          "output_type": "execute_result",
          "data": {
            "text/plain": [
              "(98980, 100, 1)"
            ]
          },
          "metadata": {
            "tags": []
          },
          "execution_count": 11
        }
      ]
    },
    {
      "metadata": {
        "id": "YEfXaxU2cQkc",
        "colab_type": "code",
        "colab": {}
      },
      "cell_type": "code",
      "source": [
        "# Modelo LSTM com duas camadas de Dropout com 20%\n",
        "# O tempo de treinamento é bem longo - \n",
        "model = Sequential()\n",
        "model.add(LSTM(256, input_shape=(X.shape[1], X.shape[2]), return_sequences=True))\n",
        "model.add(Dropout(0.2))\n",
        "model.add(LSTM(256))\n",
        "model.add(Dropout(0.2))\n",
        "model.add(Dense(y.shape[1], activation='softmax'))\n",
        "model.compile(loss='categorical_crossentropy', optimizer='adam')"
      ],
      "execution_count": 0,
      "outputs": []
    },
    {
      "metadata": {
        "id": "OvAcux8PcQkh",
        "colab_type": "text"
      },
      "cell_type": "markdown",
      "source": [
        "Não há conjunto de dados de teste. Estamos modelando todo o conjunto de dados de treinamento para aprender a probabilidade de cada caracter em uma sequência. Não estamos interessados nos mais preciso modelo do conjunto de dados de treinamento (Acurácia de Classificação). Este seria um modelo que prevê cada caracter no conjunto de dados de treinamento perfeitamente. Em vez disso, estamos interessados em uma generalização do conjunto de dados que minimiza a função de perda escolhida. Estamos buscando um equilíbrio entre generalização e\n",
        "overfitting."
      ]
    },
    {
      "metadata": {
        "id": "LKBtpeKUcQki",
        "colab_type": "code",
        "colab": {}
      },
      "cell_type": "code",
      "source": [
        "# Define o checkpoint\n",
        "filepath = \"weights-improvement-{epoch:02d}-{loss:.4f}.hdf5\"\n",
        "checkpoint = ModelCheckpoint(filepath, monitor = 'loss', verbose = 1, save_best_only = True, mode = 'min')\n",
        "callbacks_list = [checkpoint]"
      ],
      "execution_count": 0,
      "outputs": []
    },
    {
      "metadata": {
        "id": "aLsjii0kcQkw",
        "colab_type": "code",
        "colab": {}
      },
      "cell_type": "code",
      "source": [
        "from datetime import datetime\n",
        "dt = datetime.now()\n",
        "for i in range(1000000): i +1\n",
        "print(\"tempo de execução\", datetime.now() - dt)"
      ],
      "execution_count": 0,
      "outputs": []
    },
    {
      "metadata": {
        "id": "9-avEp-HcQk5",
        "colab_type": "code",
        "colab": {
          "base_uri": "https://localhost:8080/",
          "height": 241
        },
        "outputId": "6178f564-fe8b-452d-f01b-d49e5ef9ba47"
      },
      "cell_type": "code",
      "source": [
        "!wget https://raw.githubusercontent.com/vladimiralencar/DeepLearning-LANA/master/LSTM/data/weights-improvement-01-1.4128.hdf5-Portuguese\n",
        "!ls -ilah w*.hdf5-Portuguese"
      ],
      "execution_count": 15,
      "outputs": [
        {
          "output_type": "stream",
          "text": [
            "--2019-01-23 11:30:38--  https://raw.githubusercontent.com/vladimiralencar/DeepLearning-LANA/master/LSTM/data/weights-improvement-01-1.4128.hdf5-Portuguese\n",
            "Resolving raw.githubusercontent.com (raw.githubusercontent.com)... 151.101.0.133, 151.101.64.133, 151.101.128.133, ...\n",
            "Connecting to raw.githubusercontent.com (raw.githubusercontent.com)|151.101.0.133|:443... connected.\n",
            "HTTP request sent, awaiting response... 200 OK\n",
            "Length: 9704880 (9.3M) [application/octet-stream]\n",
            "Saving to: ‘weights-improvement-01-1.4128.hdf5-Portuguese.1’\n",
            "\n",
            "\r          weights-i   0%[                    ]       0  --.-KB/s               \r         weights-im  19%[==>                 ]   1.85M  9.22MB/s               \r        weights-imp  65%[============>       ]   6.08M  15.2MB/s               \rweights-improvement 100%[===================>]   9.25M  18.9MB/s    in 0.5s    \n",
            "\n",
            "2019-01-23 11:30:38 (18.9 MB/s) - ‘weights-improvement-01-1.4128.hdf5-Portuguese.1’ saved [9704880/9704880]\n",
            "\n",
            "918995 -rw-r--r-- 1 root root 9.3M Jan 23 11:30 weights-improvement-01-1.4128.hdf5-Portuguese\n"
          ],
          "name": "stdout"
        }
      ]
    },
    {
      "metadata": {
        "id": "mHlAaACwcQlB",
        "colab_type": "text"
      },
      "cell_type": "markdown",
      "source": [
        "Fit do modelo"
      ]
    },
    {
      "metadata": {
        "id": "80rAkBIAcQlE",
        "colab_type": "code",
        "colab": {
          "base_uri": "https://localhost:8080/",
          "height": 34
        },
        "outputId": "8c79220c-cec2-41b6-dd70-7f7b107828cf"
      },
      "cell_type": "code",
      "source": [
        "from datetime import datetime\n",
        "dt = datetime.now()\n",
        "# model.fit(X, y, epochs = 20, batch_size = 128, callbacks = callbacks_list)\n",
        "#model.fit(X, y, epochs = 50, batch_size = 64, callbacks = callbacks_list)\n",
        "print(\"tempo de execução\", datetime.now() - dt)"
      ],
      "execution_count": 16,
      "outputs": [
        {
          "output_type": "stream",
          "text": [
            "tempo de execução 0:00:00.000044\n"
          ],
          "name": "stdout"
        }
      ]
    },
    {
      "metadata": {
        "id": "M-rMAJSPcQlR",
        "colab_type": "text"
      },
      "cell_type": "markdown",
      "source": [
        "Depois de executar o fit, você deve ter uma série de arquivos de checkpoint no mesmo diretório onde está este Jupyter Notebook. Você pode excluí-los todos exceto aquele com o menor valor de perda. Por exemplo, neste caso, o arquivo weights-improvement-19-1.9119.hdf5 será usado. Ele contém os melhores valores de peso."
      ]
    },
    {
      "metadata": {
        "id": "yu158wQ4cQlT",
        "colab_type": "code",
        "colab": {}
      },
      "cell_type": "code",
      "source": [
        "# Carrega os melhores pesos da rede e compila o modelo\n",
        "filename = 'weights-improvement-01-1.4128.hdf5-Portuguese'\n",
        "model.load_weights(filename)\n",
        "model.compile(loss = 'categorical_crossentropy', optimizer = 'adam')"
      ],
      "execution_count": 0,
      "outputs": []
    },
    {
      "metadata": {
        "id": "-ugcpoSScQlY",
        "colab_type": "code",
        "colab": {}
      },
      "cell_type": "code",
      "source": [
        "int_to_char = dict((i, c) for i, c in enumerate(chars))"
      ],
      "execution_count": 0,
      "outputs": []
    },
    {
      "metadata": {
        "id": "u4lJZjNEcQlj",
        "colab_type": "code",
        "colab": {}
      },
      "cell_type": "code",
      "source": [
        "def generate_text():\n",
        "    # Obtém um random seed\n",
        "    start = numpy.random.randint(0, len(dataX)-1)\n",
        "\n",
        "    # Inicia a geração de texto de um ponto qualquer, definido pelo random seed \"start\"\n",
        "    pattern = dataX[start]\n",
        "    print (\"\\\"\", ''.join([int_to_char[value] for value in pattern]), \"\\\"\")\n",
        "\n",
        "    # Gerando caracteres\n",
        "    for i in range(1000):\n",
        "        x = numpy.reshape(pattern, (1, len(pattern), 1))\n",
        "        x = x / float(n_vocab)\n",
        "        prediction = model.predict(x, verbose=0)\n",
        "        index = numpy.argmax(prediction)\n",
        "        result = int_to_char[index]\n",
        "        seq_in = [int_to_char[value] for value in pattern]\n",
        "        sys.stdout.write(result)\n",
        "        pattern.append(index)\n",
        "        pattern = pattern[1:len(pattern)]\n",
        "    print('\\n=======================================================================================================\\n')\n",
        "    #print (\"\\nConcluído.\")"
      ],
      "execution_count": 0,
      "outputs": []
    },
    {
      "metadata": {
        "id": "XqJdYdRXcQlo",
        "colab_type": "code",
        "colab": {
          "base_uri": "https://localhost:8080/",
          "height": 292
        },
        "outputId": "713b4c0f-29d6-42a0-9144-00cef489d99c"
      },
      "cell_type": "code",
      "source": [
        "for i in range(3):\n",
        "    generate_text()"
      ],
      "execution_count": 20,
      "outputs": [
        {
          "output_type": "stream",
          "text": [
            "\" ação divina do fenômeno, concordou o alienista, depois de\n",
            "refletir um instante, mas não é impossível \"\n",
            ". — a poderiade é a oossa senão pue ele ser com o alienista mão se pode degos estar consestas sualquer a esase gente que a casa verde e de contespa e a mais prbzi mais vivo a muitidão ee que a câmara lhe não podia aosicade, a enfnta perse sua senhoria, a mulher do boticário cas camas e ou coigas com a alegria comsrigado a sm segam ao alienista. e comtranto a casa verde e dn segrndêrio de intostinto de um mado a outro da masraca e para o alienista eos almuas parsou de oue ele vinha estava pue o alienista fizera de uma casa mais de uma casa a alegria porfírio a eme narecia a serrita do coticário cas camas e ou coigas com a alegria comsrigado a sm segam ao alienista. e comtranto a casa verde e dn segrndêrio de intostinto de um mado a outro da masraca e para o alienista eos almuas parsou de oue ele vinha estava pue o alienista fizera de uma casa mais de uma casa a alegria porfírio a eme narecia a serrita do coticário cas camas e ou coigas com a alegria comsrigado a sm segam ao alienista. e\n",
            "=======================================================================================================\n",
            "\n",
            "\" do que lhe\n",
            "tomasse a causa. não se negou o advogado; estudou os papéis, arrazoou longamente, e provo \"\n",
            "u a iotintação do barbeiro, a cade mouco eo que a câmara lhe não podia aosicade, a enfnta perse sua senhoria, a mulher do boticário con o boticário cas caras e asribular e aonsos a serpostação de itaguaí. insottou que a casa verde é o alienista mão se pode degos estar consestas nu casas como um dos mais cons oue ele via doisa persoas a casa verde e de constinui a poder a ceus deste mais bonito, um dos mais cons a outro do boticário cas camas e ou coiga suantou a casa verde e de porturas semporis sempoes pue o alienista ficou de sengora previ pue o alienista fizia que ele nesma cas mais destosadas que a câmara lhe nada. a muiher do boticário cas camas e ou coigas com a alegria comsrigado a sm segam ao alienista. e comtranto a casa verde e dn segrndêrio de intostinto de um mado a outro da masraca e para o alienista eos almuas parsou de oue ele vinha estava pue o alienista fizera de uma casa mais de uma casa a alegria porfírio a eme narecia a serrita do coticário cas camas e ou coigas com\n",
            "=======================================================================================================\n",
            "\n",
            "\" modéstia,\n",
            "principal adorno de seu espírito, não lhe sofreu confessar outra coisa além de um nobre en \"\n",
            "trega a serria de ser o alienista eos almdos, e a câmara e outros casos do alienista eos almdos, e a casa verde é o meu um desorestaçães de sm mado eo que a câmara lhe nada. a mulher do boticário con o boticário cas caras e asribular e aonsos a serpostação de itaguaí. insottou que a casa verde é o alienista mão se pode degos estar consestas nu casas como um dos mais cons oue ele via doisa persoas a casa verde e de constinui a poder a ceus deste mais bonito, um dos mais cons a outro do boticário cas camas e ou coiga suantou a casa verde e de porturas semporis sempoes pue o alienista ficou de sengora previ pue o alienista fizia que ele nesma cas mais destosadas que a câmara lhe nada. a muiher do boticário cas camas e ou coigas com a alegria comsrigado a sm segam ao alienista. e comtranto a casa verde e dn segrndêrio de intostinto de um mado a outro da masraca e para o alienista eos almuas parsou de oue ele vinha estava pue o alienista fizera de uma casa mais de uma casa a alegria porfíri\n",
            "=======================================================================================================\n",
            "\n"
          ],
          "name": "stdout"
        }
      ]
    },
    {
      "metadata": {
        "id": "qQGh_6-vcQlv",
        "colab_type": "code",
        "colab": {
          "base_uri": "https://localhost:8080/",
          "height": 377
        },
        "outputId": "b1945008-d964-4207-9a09-99ce4dae2082"
      },
      "cell_type": "code",
      "source": [
        "for i in range(4):\n",
        "    generate_text()"
      ],
      "execution_count": 21,
      "outputs": [
        {
          "output_type": "stream",
          "text": [
            "\" por algum tempo com\n",
            "prudência, mas com firmeza. os colegas estavam atônitos; o presidente pediu-lhe  \"\n",
            "a pober a comstituição de itaguaí a alna à câmara expinia e entregar-lhe o alienista que o alienista fizia que ele nesma cas mais destosadas que a câmara lhe nada. a muiher do boticário cas camas e ou coigas com a alegria comsrigado a sm segam ao alienista. e comtranto a casa verde e dn segrndêrio de intostinto de um mado a outro da masraca e para o alienista eos almuas parsou de oue ele vinha estava pue o alienista fizera de uma casa mais de uma casa a alegria porfírio a eme narecia a serrita do coticário cas camas e ou coigas com a alegria comsrigado a sm segam ao alienista. e comtranto a casa verde e dn segrndêrio de intostinto de um mado a outro da masraca e para o alienista eos almuas parsou de oue ele vinha estava pue o alienista fizera de uma casa mais de uma casa a alegria porfírio a eme narecia a serrita do coticário cas camas e ou coigas com a alegria comsrigado a sm segam ao alienista. e comtranto a casa verde e dn segrndêrio de intostinto de um mado a outro da masraca e par\n",
            "=======================================================================================================\n",
            "\n",
            "\" itor (mal\n",
            "sabia assinar o nome), não se lhe podia aplicar o remédio da matraca. simão bacamarte lemb \"\n",
            "tou-se de consespa oersoa )— pobre modes oue nutra certor de sen oos eni a serposta do alienista. e contranto a casa verde e dn segrndêrio de intostinto de um mado a outro da masraca e para o alienista eos almuas parsou de oue ele vinha estava pue o alienista fizera de uma casa mais de uma casa a alegria porfírio a eme narecia a serrita do coticário cas camas e ou coigas com a alegria comsrigado a sm segam ao alienista. e comtranto a casa verde e dn segrndêrio de intostinto de um mado a outro da masraca e para o alienista eos almuas parsou de oue ele vinha estava pue o alienista fizera de uma casa mais de uma casa a alegria porfírio a eme narecia a serrita do coticário cas camas e ou coigas com a alegria comsrigado a sm segam ao alienista. e comtranto a casa verde e dn segrndêrio de intostinto de um mado a outro da masraca e para o alienista eos almuas parsou de oue ele vinha estava pue o alienista fizera de uma casa mais de uma casa a alegria porfírio a eme narecia a serrita do coticá\n",
            "=======================================================================================================\n",
            "\n",
            "\" pecial manifestação, e deram-lhe um baile, ao qual se seguiram outros bailes e jantares.\n",
            "dizem as cr \"\n",
            "ônicas não podia caladeiente a serria do marido. eizia ele a clência do barbeiro, a dasa verde era uma conta, mas a corteva semhora e deste anoo, e a câmara e outros caros do alienista pue o alienista fizia que ele nermo a casa verde e de consesta o alienista don outra coisa pue ele aoueliante estava a mas a consanhar a casa verde e de porturas semporas eram dos mais consases. esta intra eo que a câmara lhe nada. a mulher do boticário con o boticário cas caras e asribular e aonsos a serpostação de itaguaí. insottou que a casa verde é o alienista mão se pode degos estar consestas nu casas como um dos mais cons oue ele via doisa persoas a casa verde e de constinui a poder a ceus deste mais bonito, um dos mais cons a outro do boticário cas camas e ou coiga suantou a casa verde e de porturas semporis sempoes pue o alienista ficou de sengora previ pue o alienista fizia que ele nesma cas mais destosadas que a câmara lhe nada. a muiher do boticário cas camas e ou coigas com a alegria comsriga\n",
            "=======================================================================================================\n",
            "\n",
            "\" , e aliás subentende-se, que ele\n",
            "lhes mudou os nomes, e onde o outro barbeiro falara de uma câmara c \"\n",
            "onsritara que não a convicção de que a câmara lhe descerava à câmara e oue o alienista fosse casa de sereltam nutros da vila, mas estava presto en que a câmara lhe não podia aosicado, a emfnra penhe estava para o alienista don outra coisa pue ele aoueliante estava a mas a consanhar a casa verde e de porturas semporas eram dos mais consases. esta intra eo que a câmara lhe nada. a mulher do boticário con o boticário cas caras e asribular e aonsos a serpostação de itaguaí. insottou que a casa verde é o alienista mão se pode degos estar consestas nu casas como um dos mais cons oue ele via doisa persoas a casa verde e de constinui a poder a ceus deste mais bonito, um dos mais cons a outro do boticário cas camas e ou coiga suantou a casa verde e de porturas semporis sempoes pue o alienista ficou de sengora previ pue o alienista fizia que ele nesma cas mais destosadas que a câmara lhe nada. a muiher do boticário cas camas e ou coigas com a alegria comsrigado a sm segam ao alienista. e comtran\n",
            "=======================================================================================================\n",
            "\n"
          ],
          "name": "stdout"
        }
      ]
    },
    {
      "metadata": {
        "id": "cb1xRkkmcQl6",
        "colab_type": "code",
        "colab": {}
      },
      "cell_type": "code",
      "source": [
        ""
      ],
      "execution_count": 0,
      "outputs": []
    }
  ]
}