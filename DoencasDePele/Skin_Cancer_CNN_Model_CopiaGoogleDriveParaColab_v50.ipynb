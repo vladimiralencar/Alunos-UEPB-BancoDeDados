{
  "nbformat": 4,
  "nbformat_minor": 0,
  "metadata": {
    "kernelspec": {
      "name": "python3",
      "display_name": "Python 3"
    },
    "language_info": {
      "pygments_lexer": "ipython3",
      "nbconvert_exporter": "python",
      "version": "3.6.4",
      "file_extension": ".py",
      "codemirror_mode": {
        "name": "ipython",
        "version": 3
      },
      "name": "python",
      "mimetype": "text/x-python"
    },
    "colab": {
      "name": "Skin-Cancer CNN Model-CopiaGoogleDriveParaColab-v50.ipynb",
      "provenance": [],
      "collapsed_sections": [],
      "include_colab_link": true
    },
    "accelerator": "GPU"
  },
  "cells": [
    {
      "cell_type": "markdown",
      "metadata": {
        "id": "view-in-github",
        "colab_type": "text"
      },
      "source": [
        "<a href=\"https://colab.research.google.com/github/vladimiralencar/Alunos-UEPB-BancoDeDados/blob/master/DoencasDePele/Skin_Cancer_CNN_Model_CopiaGoogleDriveParaColab_v50.ipynb\" target=\"_parent\"><img src=\"https://colab.research.google.com/assets/colab-badge.svg\" alt=\"Open In Colab\"/></a>"
      ]
    },
    {
      "cell_type": "markdown",
      "metadata": {
        "id": "KrT9_IBzIukZ",
        "colab_type": "text"
      },
      "source": [
        "# Making A **CNN** Model !\n",
        "On that kernal we built a cnn model and train it on skin-cancer dataset.\n",
        "![CNN ’odel Architectural](https://image.ibb.co/n8PBkL/cover.png)"
      ]
    },
    {
      "cell_type": "markdown",
      "metadata": {
        "id": "ki-TzAmhIukd",
        "colab_type": "text"
      },
      "source": [
        "Start with importing libraries help us !"
      ]
    },
    {
      "cell_type": "code",
      "metadata": {
        "_uuid": "8f2839f25d086af736a60e9eeb907d3b93b6e0e5",
        "_cell_guid": "b1076dfc-b9ad-4769-8c92-a6c4dae69d19",
        "trusted": true,
        "id": "UZrnH-YBIuke",
        "colab_type": "code",
        "colab": {}
      },
      "source": [
        "import numpy as np # linear algebra\n",
        "import pandas as pd # data processing, CSV file I/O (e.g. pd.read_csv)\n",
        "import os\n",
        "%matplotlib inline\n",
        "import matplotlib.pyplot as plt\n",
        "from glob import glob\n",
        "import seaborn as sns\n",
        "from PIL import Image\n",
        "from sklearn.model_selection import train_test_split\n",
        "import keras\n",
        "from keras.utils.np_utils import to_categorical\n",
        "# from keras.models import Sequential\n",
        "# from keras.layers import Dense, Conv2D, Flatten, Dropout, MaxPool2D\n",
        "from tensorflow.keras.models import Sequential\n",
        "from tensorflow.keras.layers import Dense, Conv2D, Flatten, Dropout, MaxPooling2D\n",
        "\n",
        "from tensorflow.keras.preprocessing.image import ImageDataGenerator\n",
        "from keras.preprocessing.image import ImageDataGenerator\n",
        "from keras.optimizers import Adam\n",
        "from keras.preprocessing.image import ImageDataGenerator\n",
        "from keras.callbacks import ReduceLROnPlateau"
      ],
      "execution_count": 0,
      "outputs": []
    },
    {
      "cell_type": "markdown",
      "metadata": {
        "id": "1M8B0WilI5rs",
        "colab_type": "text"
      },
      "source": [
        "# Nontar arquivos do google drive"
      ]
    },
    {
      "cell_type": "code",
      "metadata": {
        "id": "AeA2kxOLI04W",
        "colab_type": "code",
        "colab": {}
      },
      "source": [
        "# montar arquivos do google drive\n",
        "# Load the Drive helper and mount\n",
        "from google.colab import drive\n",
        "\n",
        "# This wil4/sQGDWqag5BEQ1ZcL_AIduqhWI8gMxns8IZCr2wjTVaiI_7MmJPXGh18l prompt for authorization.\n",
        "drive.mount('/content/drive', force_remount=True)"
      ],
      "execution_count": 0,
      "outputs": []
    },
    {
      "cell_type": "code",
      "metadata": {
        "id": "cwND6fBcJVc6",
        "colab_type": "code",
        "colab": {}
      },
      "source": [
        "#!ls Dataset-Cancer-de-Pele-2019\n",
        "\n",
        "!ls drive/'My Drive'/datasets/DoencasDePele-2019/skin-cancer-mnist-ham10000\n",
        "\n",
        "folder = \"drive/My Drive/datasets/DoencasDePele-2019/skin-cancer-mnist-ham10000\"\n",
        "folder = \"skin-cancer-mnist-ham10000\""
      ],
      "execution_count": 0,
      "outputs": []
    },
    {
      "cell_type": "code",
      "metadata": {
        "id": "h3SEkM31PCsf",
        "colab_type": "code",
        "colab": {}
      },
      "source": [
        "%%time\n",
        "!cp drive/'My Drive'/datasets/DoencasDePele-2019/skin-cancer-mnist-ham10000/*.zip .\n",
        "!ls"
      ],
      "execution_count": 0,
      "outputs": []
    },
    {
      "cell_type": "code",
      "metadata": {
        "id": "HKzEXuyRPlHU",
        "colab_type": "code",
        "colab": {}
      },
      "source": [
        "%%time\n",
        "!unzip dataset-doencas-de-pele.zip\n",
        "!ls"
      ],
      "execution_count": 0,
      "outputs": []
    },
    {
      "cell_type": "markdown",
      "metadata": {
        "id": "J5-qtLuHIuki",
        "colab_type": "text"
      },
      "source": [
        "make the image path dictionary by joining the folder path from base directory `base_skin_dir` and merge the images in jpg format from both the folders `HAM10000_images_part1.zip` and `HAM10000_images_part2.zip`"
      ]
    },
    {
      "cell_type": "code",
      "metadata": {
        "id": "Odj8c4EIi7P_",
        "colab_type": "code",
        "colab": {}
      },
      "source": [
        "#!ls skin-cancer-mnist-ham10000/HAM10000_images_part_2\n",
        "!rm skin-cancer-mnist-ham10000/_DS_Store\n",
        "!ls -ila skin-cancer-mnist-ham10000"
      ],
      "execution_count": 0,
      "outputs": []
    },
    {
      "cell_type": "code",
      "metadata": {
        "id": "CObST6fLj-rm",
        "colab_type": "code",
        "colab": {}
      },
      "source": [
        "#!mkdir skin-cancer-mnist-ham10000/images\n",
        "!cp -r skin-cancer-mnist-ham10000/HAM10000_images_part_1/*.* skin-cancer-mnist-ham10000/images\n",
        "!cp -r skin-cancer-mnist-ham10000/HAM10000_images_part_2/*.* skin-cancer-mnist-ham10000/images\n",
        "!ls skin-cancer-mnist-ham10000/images"
      ],
      "execution_count": 0,
      "outputs": []
    },
    {
      "cell_type": "code",
      "metadata": {
        "id": "wvw-ii0ck32L",
        "colab_type": "code",
        "colab": {}
      },
      "source": [
        "!ls skin-cancer-mnist-ham10000/images | wc -l"
      ],
      "execution_count": 0,
      "outputs": []
    },
    {
      "cell_type": "code",
      "metadata": {
        "id": "3VUGIsZolMg1",
        "colab_type": "code",
        "colab": {}
      },
      "source": [
        "!ls skin-cancer-mnist-ham10000/HAM10000_images_part_2/ | wc -l"
      ],
      "execution_count": 0,
      "outputs": []
    },
    {
      "cell_type": "code",
      "metadata": {
        "id": "pshWyWUylRq9",
        "colab_type": "code",
        "colab": {}
      },
      "source": [
        "!ls skin-cancer-mnist-ham10000/HAM10000_images_part_1/ | wc -l"
      ],
      "execution_count": 0,
      "outputs": []
    },
    {
      "cell_type": "code",
      "metadata": {
        "id": "5feXoU3Mj4SV",
        "colab_type": "code",
        "colab": {}
      },
      "source": [
        "folder"
      ],
      "execution_count": 0,
      "outputs": []
    },
    {
      "cell_type": "code",
      "metadata": {
        "id": "ivuAha_blXSX",
        "colab_type": "code",
        "colab": {}
      },
      "source": [
        "folder = \"skin-cancer-mnist-ham10000/images\""
      ],
      "execution_count": 0,
      "outputs": []
    },
    {
      "cell_type": "code",
      "metadata": {
        "trusted": true,
        "id": "TzWta4VCIukj",
        "colab_type": "code",
        "colab": {}
      },
      "source": [
        "%%time\n",
        "#base_skin_dir = os.path.join('.', folder)\n",
        "base_skin_dir = folder\n",
        "imageid_path_dict = {os.path.splitext(os.path.basename(x))[0]: x\n",
        "                     for x in glob(os.path.join(base_skin_dir, '*', '*.jpg'))}\n",
        "\n",
        "lesion_type_dict = {\n",
        "    'nv': 'Melanocytic nevi',\n",
        "    'mel': 'Melanoma',\n",
        "    'bkl': 'Benign keratosis-like lesions ',\n",
        "    'bcc': 'Basal cell carcinoma',\n",
        "    'akiec': 'Actinic keratoses',\n",
        "    'vasc': 'Vascular lesions',\n",
        "    'df': 'Dermatofibroma'\n",
        "}"
      ],
      "execution_count": 0,
      "outputs": []
    },
    {
      "cell_type": "code",
      "metadata": {
        "trusted": true,
        "id": "616BTDvvIukl",
        "colab_type": "code",
        "colab": {}
      },
      "source": [
        "skin_dir = \"skin-cancer-mnist-ham10000\"\n",
        "tile_df = pd.read_csv(os.path.join(skin_dir, 'HAM10000_metadata.csv'))\n",
        "tile_df['path'] = tile_df['image_id'].map(imageid_path_dict.get)\n",
        "tile_df['cell_type'] = tile_df['dx'].map(lesion_type_dict.get) \n",
        "tile_df['cell_type_idx'] = pd.Categorical(tile_df['cell_type']).codes\n",
        "tile_df.sample(3)"
      ],
      "execution_count": 0,
      "outputs": []
    },
    {
      "cell_type": "markdown",
      "metadata": {
        "id": "rdUJm2QAIuko",
        "colab_type": "text"
      },
      "source": [
        "## Cleaning Data !!\n",
        "first thing showing if there is a `null` data."
      ]
    },
    {
      "cell_type": "code",
      "metadata": {
        "id": "DRZSl2s_mAWu",
        "colab_type": "code",
        "colab": {}
      },
      "source": [
        "len(tile_df)"
      ],
      "execution_count": 0,
      "outputs": []
    },
    {
      "cell_type": "code",
      "metadata": {
        "trusted": true,
        "id": "Y8V-D6joIukp",
        "colab_type": "code",
        "colab": {}
      },
      "source": [
        "tile_df.isnull().sum()"
      ],
      "execution_count": 0,
      "outputs": []
    },
    {
      "cell_type": "code",
      "metadata": {
        "id": "8LCqcML3mKII",
        "colab_type": "code",
        "colab": {}
      },
      "source": [
        "tile_df2 = tile_df.dropna()\n",
        "len(tile_df2)\n",
        "tile_df = tile_df2.copy()"
      ],
      "execution_count": 0,
      "outputs": []
    },
    {
      "cell_type": "markdown",
      "metadata": {
        "id": "Ubfny_ZVIuks",
        "colab_type": "text"
      },
      "source": [
        "Fill the null values by their mean."
      ]
    },
    {
      "cell_type": "code",
      "metadata": {
        "trusted": true,
        "id": "DtfvwTr6Iuku",
        "colab_type": "code",
        "colab": {}
      },
      "source": [
        "tile_df['age'].fillna((tile_df['age'].mean()), inplace=True)"
      ],
      "execution_count": 0,
      "outputs": []
    },
    {
      "cell_type": "markdown",
      "metadata": {
        "id": "Hq6Kc8QuIukx",
        "colab_type": "text"
      },
      "source": [
        "insure that now we have no empety data."
      ]
    },
    {
      "cell_type": "code",
      "metadata": {
        "trusted": true,
        "id": "M189iM8sIuky",
        "colab_type": "code",
        "colab": {}
      },
      "source": [
        "tile_df.isnull().sum()"
      ],
      "execution_count": 0,
      "outputs": []
    },
    {
      "cell_type": "code",
      "metadata": {
        "id": "P0gknBecapBq",
        "colab_type": "code",
        "colab": {}
      },
      "source": [
        "import sys\n",
        "print(sys.version)"
      ],
      "execution_count": 0,
      "outputs": []
    },
    {
      "cell_type": "markdown",
      "metadata": {
        "id": "ykmz6_XgIuk1",
        "colab_type": "text"
      },
      "source": [
        "## Loading and resize images !!\n",
        "we resized the images to 100 * 75 whitch tensorflow can handle."
      ]
    },
    {
      "cell_type": "code",
      "metadata": {
        "trusted": true,
        "id": "Ws3zzJG_Iuk2",
        "colab_type": "code",
        "colab": {}
      },
      "source": [
        "%%time\n",
        "tile_df['image'] = tile_df['path'].map(lambda x: np.asarray(Image.open(x).resize((100,75))))"
      ],
      "execution_count": 0,
      "outputs": []
    },
    {
      "cell_type": "markdown",
      "metadata": {
        "id": "pufw6M5KIuk4",
        "colab_type": "text"
      },
      "source": [
        "Show some image samples..."
      ]
    },
    {
      "cell_type": "code",
      "metadata": {
        "trusted": true,
        "id": "WCa6RvU-Iuk5",
        "colab_type": "code",
        "colab": {}
      },
      "source": [
        "n_samples = 5\n",
        "fig, m_axs = plt.subplots(7, n_samples, figsize = (4*n_samples, 3*7))\n",
        "for n_axs, (type_name, type_rows) in zip(m_axs, \n",
        "                                         tile_df.sort_values(['cell_type']).groupby('cell_type')):\n",
        "    n_axs[0].set_title(type_name)\n",
        "    for c_ax, (_, c_row) in zip(n_axs, type_rows.sample(n_samples, random_state=1234).iterrows()):\n",
        "        str_image = c_row['image']\n",
        "        #image1 = (np.float_(str_image))\n",
        "        image1 = np.asarray(str_image, dtype=np.float64, order='C')\n",
        "        #image1 = np.array(str_image)\n",
        "        #print(type(image1))\n",
        "        #print(image1)\n",
        "        c_ax.imshow(c_row['image'])\n",
        "        c_ax.axis('off')\n",
        "fig.savefig('category_samples.png', dpi=300)"
      ],
      "execution_count": 0,
      "outputs": []
    },
    {
      "cell_type": "code",
      "metadata": {
        "trusted": true,
        "id": "LtsIEXyMIuk8",
        "colab_type": "code",
        "colab": {}
      },
      "source": [
        "# Checking the image size distribution\n",
        "tile_df['image'].map(lambda x: x.shape).value_counts()"
      ],
      "execution_count": 0,
      "outputs": []
    },
    {
      "cell_type": "markdown",
      "metadata": {
        "id": "H6fQ1gSlIuk_",
        "colab_type": "text"
      },
      "source": [
        "## Train Test Split !!\n",
        "splitting data into train and test with 20:80 ratio."
      ]
    },
    {
      "cell_type": "code",
      "metadata": {
        "trusted": true,
        "id": "OoaKZmQ7IulA",
        "colab_type": "code",
        "colab": {}
      },
      "source": [
        "%%time\n",
        "features=tile_df.drop(columns=['cell_type_idx'],axis=1)\n",
        "target=tile_df['cell_type_idx']\n",
        "\n",
        "x_train_o, x_test_o, y_train_o, y_test_o = train_test_split(features, target, test_size=0.20,random_state=1234)"
      ],
      "execution_count": 0,
      "outputs": []
    },
    {
      "cell_type": "markdown",
      "metadata": {
        "id": "B-4bD-e7IulC",
        "colab_type": "text"
      },
      "source": [
        "## Normalization !!\n",
        "subtract their mean values from it and then dividing by their standard deviation."
      ]
    },
    {
      "cell_type": "code",
      "metadata": {
        "trusted": true,
        "id": "HDcKQ4RaIulD",
        "colab_type": "code",
        "colab": {}
      },
      "source": [
        "%%time\n",
        "x_train = np.asarray(x_train_o['image'].tolist())\n",
        "x_test = np.asarray(x_test_o['image'].tolist())\n",
        "\n",
        "x_train_mean = np.mean(x_train)\n",
        "x_train_std = np.std(x_train)\n",
        "\n",
        "x_test_mean = np.mean(x_test)\n",
        "x_test_std = np.std(x_test)\n",
        "\n",
        "x_train = (x_train - x_train_mean)/x_train_std\n",
        "x_test = (x_test - x_test_mean)/x_test_std"
      ],
      "execution_count": 0,
      "outputs": []
    },
    {
      "cell_type": "markdown",
      "metadata": {
        "id": "DTJdkx3VIulF",
        "colab_type": "text"
      },
      "source": [
        "## Label Encoding !!\n",
        "Labels are 7 different classes of cell types from 0 to 6. We need to encode these lables to one hot vectors."
      ]
    },
    {
      "cell_type": "code",
      "metadata": {
        "trusted": true,
        "id": "DhLlrtj1IulG",
        "colab_type": "code",
        "colab": {}
      },
      "source": [
        "y_train = to_categorical(y_train_o, num_classes = 7)\n",
        "y_test = to_categorical(y_test_o, num_classes = 7)"
      ],
      "execution_count": 0,
      "outputs": []
    },
    {
      "cell_type": "markdown",
      "metadata": {
        "id": "GxwImjTeIulI",
        "colab_type": "text"
      },
      "source": [
        "## Training and Validation Split !!\n",
        "validate:train >> 10:90 %"
      ]
    },
    {
      "cell_type": "code",
      "metadata": {
        "trusted": true,
        "id": "W_qazRuNIulJ",
        "colab_type": "code",
        "colab": {}
      },
      "source": [
        "%%time\n",
        "x_train, x_validate, y_train, y_validate = train_test_split(x_train, y_train, test_size = 0.1, random_state = 2)"
      ],
      "execution_count": 0,
      "outputs": []
    },
    {
      "cell_type": "code",
      "metadata": {
        "trusted": true,
        "id": "tTGwHBoIIulM",
        "colab_type": "code",
        "colab": {}
      },
      "source": [
        "%%time\n",
        "x_train = x_train.reshape(x_train.shape[0], *(75, 100, 3))\n",
        "x_test = x_test.reshape(x_test.shape[0], *(75, 100, 3))\n",
        "x_validate = x_validate.reshape(x_validate.shape[0], *(75, 100, 3))"
      ],
      "execution_count": 0,
      "outputs": []
    },
    {
      "cell_type": "markdown",
      "metadata": {
        "id": "3zqwo2bQIulO",
        "colab_type": "text"
      },
      "source": [
        "## Model Building !!"
      ]
    },
    {
      "cell_type": "code",
      "metadata": {
        "trusted": true,
        "id": "qzEtZVbqIulQ",
        "colab_type": "code",
        "colab": {}
      },
      "source": [
        "input_shape = (75, 100, 3)\n",
        "num_classes = 7\n",
        "model = Sequential([\n",
        "    Conv2D(32, 3, padding='same', activation='relu', input_shape=input_shape),\n",
        "    Conv2D(32, 3, padding='same', activation='relu'),\n",
        "    MaxPooling2D(),\n",
        "    Dropout(0.25),\n",
        "\n",
        "    Conv2D(64, 3, padding='same', activation='relu', input_shape=input_shape),\n",
        "    Conv2D(64, 3, padding='same', activation='relu'),\n",
        "    MaxPooling2D(),\n",
        "    Dropout(0.4),\n",
        "    \n",
        "    Conv2D(128, 3, padding='same', activation='relu'),\n",
        "    MaxPooling2D(),\n",
        "    Dropout(0.5),\n",
        "    \n",
        "    Flatten(),\n",
        "    Dense(512, activation='relu'),\n",
        "    Dropout(0.55),\n",
        "    Dense(7, activation='softmax')\n",
        "])"
      ],
      "execution_count": 0,
      "outputs": []
    },
    {
      "cell_type": "code",
      "metadata": {
        "trusted": true,
        "id": "NZmKQ2OHIulT",
        "colab_type": "code",
        "colab": {}
      },
      "source": [
        "model.compile(optimizer='adam',\n",
        "              loss='binary_crossentropy',\n",
        "              metrics=['accuracy'])"
      ],
      "execution_count": 0,
      "outputs": []
    },
    {
      "cell_type": "code",
      "metadata": {
        "trusted": true,
        "id": "AgEyoOIvIulW",
        "colab_type": "code",
        "colab": {}
      },
      "source": [
        "learning_rate_reduction = ReduceLROnPlateau(monitor='val_acc', \n",
        "                                            patience=3, \n",
        "                                            verbose=1, \n",
        "                                            factor=0.5, \n",
        "                                            min_lr=0.00001)"
      ],
      "execution_count": 0,
      "outputs": []
    },
    {
      "cell_type": "code",
      "metadata": {
        "trusted": true,
        "id": "jNErfi34Iuld",
        "colab_type": "code",
        "colab": {}
      },
      "source": [
        "model.summary()"
      ],
      "execution_count": 0,
      "outputs": []
    },
    {
      "cell_type": "markdown",
      "metadata": {
        "id": "8-CQemPwIuli",
        "colab_type": "text"
      },
      "source": [
        "**Data Augmentation** to avoiding the overfitting."
      ]
    },
    {
      "cell_type": "code",
      "metadata": {
        "trusted": true,
        "id": "7OGORe1SIuli",
        "colab_type": "code",
        "colab": {}
      },
      "source": [
        "%%time\n",
        "datagen = ImageDataGenerator(\n",
        "        featurewise_center=False,  # set input mean to 0 over the dataset\n",
        "        samplewise_center=False,  # set each sample mean to 0\n",
        "        featurewise_std_normalization=False,  # divide inputs by std of the dataset\n",
        "        samplewise_std_normalization=False,  # divide each input by its std\n",
        "        zca_whitening=False,  # apply ZCA whitening\n",
        "        rotation_range=10,  # randomly rotate images in the range (degrees, 0 to 180)\n",
        "        zoom_range = 0.1, # Randomly zoom image \n",
        "        width_shift_range=0.1,  # randomly shift images horizontally (fraction of total width)\n",
        "        height_shift_range=0.1,  # randomly shift images vertically (fraction of total height)\n",
        "        horizontal_flip=False,  # randomly flip images\n",
        "        vertical_flip=False)  # randomly flip images\n",
        "datagen.fit(x_train)"
      ],
      "execution_count": 0,
      "outputs": []
    },
    {
      "cell_type": "markdown",
      "metadata": {
        "id": "0LXnZ8bCIull",
        "colab_type": "text"
      },
      "source": [
        "## Fitting The model !!"
      ]
    },
    {
      "cell_type": "code",
      "metadata": {
        "trusted": true,
        "id": "Dl6cFItNIull",
        "colab_type": "code",
        "colab": {}
      },
      "source": [
        "%%time\n",
        "epochs = 50 \n",
        "batch_size = 10\n",
        "history = model.fit_generator(\n",
        "    datagen.flow(x_train,y_train, batch_size=batch_size),\n",
        "    steps_per_epoch=x_train.shape[0] // batch_size,\n",
        "    epochs=epochs,\n",
        "    validation_data=(x_validate,y_validate),\n",
        "    validation_steps=x_validate.shape[0] // batch_size\n",
        "    #,callbacks=[learning_rate_reduction]\n",
        ")"
      ],
      "execution_count": 0,
      "outputs": []
    },
    {
      "cell_type": "markdown",
      "metadata": {
        "id": "JE6LDFofIulr",
        "colab_type": "text"
      },
      "source": [
        "## Model Evaluation !!"
      ]
    },
    {
      "cell_type": "code",
      "metadata": {
        "trusted": true,
        "id": "1BrJbn2XIulx",
        "colab_type": "code",
        "colab": {}
      },
      "source": [
        "%%time\n",
        "loss, accuracy = model.evaluate(x_test, y_test, verbose=1)\n",
        "loss_v, accuracy_v = model.evaluate(x_validate, y_validate, verbose=1)\n",
        "print(\"Validation: accuracy = %f  ;  loss_v = %f\" % (accuracy_v, loss_v))\n",
        "print(\"Test: accuracy = %f  ;  loss = %f\" % (accuracy, loss))\n",
        "model.save(\"model.h5\")"
      ],
      "execution_count": 0,
      "outputs": []
    },
    {
      "cell_type": "code",
      "metadata": {
        "trusted": true,
        "id": "TCCTnt43Iulz",
        "colab_type": "code",
        "colab": {}
      },
      "source": [
        "#1. Function to plot model's validation loss and validation accuracy\n",
        "def plot_model_history(model_history):\n",
        "    fig, axs = plt.subplots(1,2,figsize=(15,5))\n",
        "    # summarize history for accuracy\n",
        "    axs[0].plot(range(1,len(model_history.history['acc'])+1),model_history.history['acc'])\n",
        "    axs[0].plot(range(1,len(model_history.history['val_acc'])+1),model_history.history['val_acc'])\n",
        "    axs[0].set_title('Model Accuracy')\n",
        "    axs[0].set_ylabel('Accuracy')\n",
        "    axs[0].set_xlabel('Epoch')\n",
        "    axs[0].set_xticks(np.arange(1,len(model_history.history['acc'])+1),len(model_history.history['acc'])/10)\n",
        "    axs[0].legend(['train', 'val'], loc='best')\n",
        "    # summarize history for loss\n",
        "    axs[1].plot(range(1,len(model_history.history['loss'])+1),model_history.history['loss'])\n",
        "    axs[1].plot(range(1,len(model_history.history['val_loss'])+1),model_history.history['val_loss'])\n",
        "    axs[1].set_title('Model Loss')\n",
        "    axs[1].set_ylabel('Loss')\n",
        "    axs[1].set_xlabel('Epoch')\n",
        "    axs[1].set_xticks(np.arange(1,len(model_history.history['loss'])+1),len(model_history.history['loss'])/10)\n",
        "    axs[1].legend(['train', 'val'], loc='best')\n",
        "    plt.show()"
      ],
      "execution_count": 0,
      "outputs": []
    },
    {
      "cell_type": "code",
      "metadata": {
        "trusted": true,
        "id": "JZLBDIYYIul1",
        "colab_type": "code",
        "colab": {}
      },
      "source": [
        "%%time\n",
        "plot_model_history(history)"
      ],
      "execution_count": 0,
      "outputs": []
    },
    {
      "cell_type": "markdown",
      "metadata": {
        "id": "A31gzkisoR5r",
        "colab_type": "text"
      },
      "source": [
        "# # Predição"
      ]
    },
    {
      "cell_type": "code",
      "metadata": {
        "id": "k7TQvxI7ratD",
        "colab_type": "code",
        "colab": {}
      },
      "source": [
        "from google.colab import files\n",
        "files.upload()"
      ],
      "execution_count": 0,
      "outputs": []
    },
    {
      "cell_type": "code",
      "metadata": {
        "id": "BBFd8nIJte2c",
        "colab_type": "code",
        "colab": {}
      },
      "source": [
        "x_pred.shape"
      ],
      "execution_count": 0,
      "outputs": []
    },
    {
      "cell_type": "code",
      "metadata": {
        "id": "033OqcFxujRd",
        "colab_type": "code",
        "colab": {}
      },
      "source": [
        "input_shape = (75, 100, 3)\n",
        "\n",
        "#x_pred = np.asarray(Image.open(x_pred)).resize(input_shape)\n",
        "\n",
        "#x_pred = x_pred.reshape(input_shape)\n"
      ],
      "execution_count": 0,
      "outputs": []
    },
    {
      "cell_type": "code",
      "metadata": {
        "id": "edYDp5lYxg6R",
        "colab_type": "code",
        "colab": {}
      },
      "source": [
        "x_pred.shape"
      ],
      "execution_count": 0,
      "outputs": []
    },
    {
      "cell_type": "code",
      "metadata": {
        "id": "lT0eEQB5thdg",
        "colab_type": "code",
        "colab": {}
      },
      "source": [
        " %%time\n",
        " #.resize((100,75))\n",
        " input_shape = (75, 100, 3)\n",
        " x = 'df.jpg'\n",
        " x_pred = np.asarray(Image.open(x).resize((100,75)))  \n",
        "\n",
        "#x_pred = x_pred.resize(input_shape)\n",
        "x_pred = x_pred.reshape(1, 75, 100, 3)\n",
        "print(x_pred.shape)\n"
      ],
      "execution_count": 0,
      "outputs": []
    },
    {
      "cell_type": "code",
      "metadata": {
        "id": "YWlaOmGkzpWy",
        "colab_type": "code",
        "colab": {}
      },
      "source": [
        "print(model.predict(x_pred))\n",
        "print(model.predict_proba(x_pred))"
      ],
      "execution_count": 0,
      "outputs": []
    },
    {
      "cell_type": "code",
      "metadata": {
        "id": "vnLMW7hfzqBR",
        "colab_type": "code",
        "colab": {}
      },
      "source": [
        "======"
      ],
      "execution_count": 0,
      "outputs": []
    },
    {
      "cell_type": "code",
      "metadata": {
        "id": "4jrKK2dfoQP2",
        "colab_type": "code",
        "colab": {}
      },
      "source": [
        "%%time\n",
        "\n",
        "from google.colab import files\n",
        "xpred = files.upload()\n",
        "\n",
        "\n",
        "\n",
        "x_test = np.asarray(x_test_o['image'].tolist())\n",
        "\n",
        "x_test_mean = np.mean(x_test)\n",
        "x_test_std = np.std(x_test)\n",
        "\n",
        "x_test = (x_test - x_test_mean)/x_test_std\n",
        "\n",
        "\n",
        "# reshape do dado\n",
        "x_test = x_test.reshape(x_test.shape[0], *(75, 100, 3))\n"
      ],
      "execution_count": 0,
      "outputs": []
    },
    {
      "cell_type": "code",
      "metadata": {
        "id": "-gmvVLnSotIH",
        "colab_type": "code",
        "colab": {}
      },
      "source": [
        ""
      ],
      "execution_count": 0,
      "outputs": []
    }
  ]
}